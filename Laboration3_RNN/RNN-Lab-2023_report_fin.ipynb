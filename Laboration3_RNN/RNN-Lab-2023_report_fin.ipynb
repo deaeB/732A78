{
 "cells": [
  {
   "cell_type": "markdown",
   "metadata": {
    "id": "y8SC3p-UCusw"
   },
   "source": [
    "# RNN Machine Translation Laboration"
   ]
  },
  {
   "cell_type": "markdown",
   "metadata": {
    "id": "nvKNkEYrCusy"
   },
   "source": [
    "In this lab, your task is to build a sequence-to-sequence model, using recurrent neural networks, that translates short sentences from Swedish into English."
   ]
  },
  {
   "cell_type": "code",
   "execution_count": 1,
   "metadata": {
    "tags": []
   },
   "outputs": [],
   "source": [
    "import os\n",
    "os.environ[\"TF_CPP_MIN_LOG_LEVEL\"] = \"2\"  # Tensorflow is quite chatty; filter out warnings"
   ]
  },
  {
   "cell_type": "code",
   "execution_count": 2,
   "metadata": {
    "id": "IDNS-GhLCusz",
    "tags": []
   },
   "outputs": [],
   "source": [
    "import tensorflow as tf\n",
    "from tensorflow import keras\n",
    "from tensorflow.keras import layers"
   ]
  },
  {
   "cell_type": "markdown",
   "metadata": {},
   "source": [
    "### Check that Tensorflow uses a GPU _(optional)_\n",
    "\n",
    "Training the models in this notebook can be sped up significantly with a GPU.  The following cell can be used to check if the GPU is set up correctly.  If you run on CPU, you can either run or just ignore this cell."
   ]
  },
  {
   "cell_type": "code",
   "execution_count": 3,
   "metadata": {},
   "outputs": [],
   "source": [
    "# os.environ[\"CUDA_DEVICE_ORDER\"]=\"PCI_BUS_ID\"\n",
    "# # The GPU id to use, usually either \"0\" or \"1\"\n",
    "# os.environ[\"CUDA_VISIBLE_DEVICES\"]=\"0\"\n",
    "\n",
    "# if tf.config.list_physical_devices(\"GPU\"):\n",
    "#     print(\"✓ Tensorflow has detected a GPU.\")\n",
    "#     import shutil\n",
    "#     if not shutil.which(\"ptxas\"):\n",
    "#         print(\"\\n✗ Command 'ptxas' not found in path -- you might have to install `cudatoolkit-dev`\")\n",
    "#     if not \"XLA_FLAGS\" in os.environ:\n",
    "#         print(\"\\n✗ XLA_FLAGS not set. If you encounter errors during training, you might have to set\")\n",
    "#         print(\"        XLA_FLAGS=\\\"--xla_gpu_cuda_data_dir=$CONDA_PREFIX/lib/\\\"\")\n",
    "    \n",
    "#     # Allow growth of GPU memory, otherwise it will always look like all the memory is being used\n",
    "#     physical_devices = tf.config.experimental.list_physical_devices('GPU')\n",
    "#     tf.config.experimental.set_memory_growth(physical_devices[0], True) \n",
    "# else:\n",
    "#     print(\"✗ Tensorflow has NOT detected a GPU.\")\n",
    "#     print()\n",
    "#     print(\"For GPU support, visit: <https://www.tensorflow.org/install/pip>\")"
   ]
  },
  {
   "cell_type": "markdown",
   "metadata": {},
   "source": [
    "## Problem Specification\n",
    "\n",
    "Your task in this assignment is to:\n",
    "\n",
    "1. Build an encoder—decoder model based on recurrent neural networks.\n",
    "2. Train this model on the provided training data, a collection of parallel Swedish–English sentences.\n",
    "3. Evaluate the performance of this model on the provided test data."
   ]
  },
  {
   "cell_type": "markdown",
   "metadata": {
    "id": "aX-5kU7mCus1"
   },
   "source": [
    "### The data: Swedish–English Anki corpus"
   ]
  },
  {
   "cell_type": "markdown",
   "metadata": {
    "id": "luSjyoOqCus2"
   },
   "source": [
    "The data in this lab consists of bilingual Swedish–English sentence pairs from the [Tatoeba Project](https://tatoeba.org/en) as collected by [Anki](http://www.manythings.org/anki/).  These are comparatively short sentences, suitable for language learners, and therefore also well-suited for building a small machine translation model. Here are some example sentences from the training set:"
   ]
  },
  {
   "cell_type": "code",
   "execution_count": 4,
   "metadata": {
    "id": "EaFUyzF-Cus2",
    "tags": []
   },
   "outputs": [
    {
     "name": "stdout",
     "output_type": "stream",
     "text": [
      "['i returned to japan .', 'jag återvände till japan .']\n",
      "['i love her .', 'jag älskar henne .']\n",
      "[\"this is tom ' s school .\", 'detta är toms skola .']\n",
      "['i can hardly stand .', 'jag kan knappt stå .']\n"
     ]
    }
   ],
   "source": [
    "with open(\"en-sv-train.txt\", \"rt\") as f:\n",
    "    for i, line in enumerate(f):\n",
    "        pair = [sent for sent in line.rstrip().split(\"\\t\")]\n",
    "        print(pair)\n",
    "        if i > 2:\n",
    "            break"
   ]
  },
  {
   "cell_type": "markdown",
   "metadata": {
    "id": "cVYZFLVyCus3"
   },
   "source": [
    "Each line in the data files consists of an English–Swedish sentence pair. The sentences are already lower-cased and pre-tokenized (using the [toktok tokenizer from NLTK](https://www.nltk.org/howto/tokenize.html)), so we can simply split them up by whitespace to get sequences of tokens.  To make your life a bit easier, we have removed sentences longer than 15 words. \n",
    "\n",
    "The next cell contains code that yields the sentences contained in a file as lists of strings:"
   ]
  },
  {
   "cell_type": "code",
   "execution_count": 5,
   "metadata": {
    "id": "Eay_PCwACus4",
    "tags": []
   },
   "outputs": [
    {
     "data": {
      "text/plain": [
       "['i', 'returned', 'to', 'japan', '.']"
      ]
     },
     "execution_count": 5,
     "metadata": {},
     "output_type": "execute_result"
    }
   ],
   "source": [
    "ENGLISH = 0\n",
    "SWEDISH = 1\n",
    "\n",
    "def sentences(filename, idx):\n",
    "    # Use idx=0 for English, idx=1 for Swedish\n",
    "    with open(filename, \"rt\") as source:\n",
    "        for line in source:\n",
    "            yield line.rstrip().split(\"\\t\")[idx].split()\n",
    "\n",
    "# Example usage\n",
    "next(sentences(\"en-sv-train.txt\", ENGLISH))"
   ]
  },
  {
   "cell_type": "markdown",
   "metadata": {
    "id": "Ypi63gGlCus5"
   },
   "source": [
    "## Part 1: Build the vocabularies"
   ]
  },
  {
   "cell_type": "markdown",
   "metadata": {
    "id": "REbT89KqCus5"
   },
   "source": [
    "Before we can feed them into any model, we first need to convert the text strings to integers. For this purpose, we'll create a **vocabulary** of tokens that are known to the model, one vocabulary for each language. We need four **special tokens (or \"pseudowords\")**:\n",
    "\n",
    "1. `<pad>` at index 0 for padding purposes\n",
    "2. `<unk>` at index 1 to represent unknown words\n",
    "3. `<bos>` at index 2 to mark the \"beginning of sequence\" in the decoder\n",
    "4. `<eos>` at index 3 to mark the \"end of sequence\" in the decoder\n",
    "\n",
    "The remaining items in the vocabulary should be made up of the **most frequent words** in the training data for the respective language."
   ]
  },
  {
   "cell_type": "markdown",
   "metadata": {
    "tags": []
   },
   "source": [
    "#### 🤔 Task 1: Write the function to build the vocabularies"
   ]
  },
  {
   "cell_type": "code",
   "execution_count": 6,
   "metadata": {
    "id": "R29hmyaRCus5",
    "tags": []
   },
   "outputs": [],
   "source": [
    "from collections import Counter\n",
    "\n",
    "def make_vocab(sentences, max_size):\n",
    "    \"\"\"Return a list of the `max_size` most frequent tokens in `sentences`.\"\"\"\n",
    "\n",
    "    vocabulary = ['<pad>', '<unk>', '<bos>', '<eos>']\n",
    "               \n",
    "    freqDict = {}\n",
    "    #{wordA:count}\n",
    "    try:\n",
    "            \n",
    "        # TODO\n",
    "        # 1. Count of how often each word occurs in the data\n",
    "        for line in sentences:\n",
    "            for word in line:\n",
    "                if word in freqDict:\n",
    "                    freqDict[word] += 1\n",
    "                else:\n",
    "                    freqDict[word] = 1\n",
    "        # 2. Sort the words by their frequency, in descending order\n",
    "        freqList = sorted(freqDict,key=lambda key: freqDict[key], reverse=True)\n",
    "        # 3. Make a list of the special tokens plus the most frequent words, up to a length of `max_size`.\n",
    "        vocabulary.extend(freqList)\n",
    "        vocabularyFirstM = vocabulary[:max_size]\n",
    "        # 4. Return the list\n",
    "        return vocabularyFirstM\n",
    "    except:\n",
    "        raise NotImplementedError"
   ]
  },
  {
   "cell_type": "markdown",
   "metadata": {
    "id": "Zmr7Oe9cCus7"
   },
   "source": [
    "With this function, we can construct vocabularies containing the 5,000 most frequent words as follows:"
   ]
  },
  {
   "cell_type": "code",
   "execution_count": 7,
   "metadata": {
    "id": "onyml-oDCus7",
    "tags": []
   },
   "outputs": [],
   "source": [
    "src_vocab = make_vocab(sentences('en-sv-train.txt', SWEDISH), 5000)\n",
    "tgt_vocab = make_vocab(sentences('en-sv-train.txt', ENGLISH), 5000)"
   ]
  },
  {
   "cell_type": "code",
   "execution_count": 8,
   "metadata": {},
   "outputs": [
    {
     "name": "stdout",
     "output_type": "stream",
     "text": [
      "['<pad>', '<unk>', '<bos>', '<eos>', '.', 'jag', 'är', '?', 'tom', 'det']\n",
      "['<pad>', '<unk>', '<bos>', '<eos>', '.', 'i', \"'\", 'tom', '?', 'you']\n"
     ]
    }
   ],
   "source": [
    "print(src_vocab[:10])\n",
    "print(tgt_vocab[:10])"
   ]
  },
  {
   "cell_type": "markdown",
   "metadata": {
    "id": "HX9T47dnCus8"
   },
   "source": [
    "#### 🤞 Test your code\n",
    "\n",
    "To test your code, check that each vocabulary contains 5,000 words, and includes the pseudowords at the right positions:"
   ]
  },
  {
   "cell_type": "code",
   "execution_count": 9,
   "metadata": {
    "id": "tZBil9ezCus8",
    "tags": [
     "solution"
    ]
   },
   "outputs": [
    {
     "name": "stdout",
     "output_type": "stream",
     "text": [
      "All good!\n"
     ]
    }
   ],
   "source": [
    "def test1():\n",
    "    assert len(src_vocab) == 5000\n",
    "    assert len(tgt_vocab) == 5000\n",
    "    assert src_vocab[:4] == ['<pad>', '<unk>', '<bos>', '<eos>']\n",
    "    assert tgt_vocab[:4] == ['<pad>', '<unk>', '<bos>', '<eos>']\n",
    "    print(\"All good!\")\n",
    "\n",
    "test1()"
   ]
  },
  {
   "cell_type": "markdown",
   "metadata": {},
   "source": [
    "### Wrap the vocabularies in StringLookup layers\n",
    "\n",
    "For mapping tokens to their vocabulary IDs, we can use Keras' `StringLookup` layer. The next cell constructs layers for both the source and target vocabulary."
   ]
  },
  {
   "cell_type": "code",
   "execution_count": 10,
   "metadata": {
    "tags": []
   },
   "outputs": [],
   "source": [
    "string_lookup_args = dict(output_mode=\"int\", mask_token=\"<pad>\", oov_token=\"<unk>\")\n",
    "src_lookup = layers.StringLookup(vocabulary=src_vocab, **string_lookup_args)\n",
    "tgt_lookup = layers.StringLookup(vocabulary=tgt_vocab, **string_lookup_args)"
   ]
  },
  {
   "cell_type": "markdown",
   "metadata": {},
   "source": [
    "The next cell gives an example how these `StringLookup` layers can be used. Note that the layers already return *tensors*."
   ]
  },
  {
   "cell_type": "code",
   "execution_count": 11,
   "metadata": {
    "tags": []
   },
   "outputs": [
    {
     "name": "stdout",
     "output_type": "stream",
     "text": [
      "tf.Tensor([   5 1005   11  530  188    4], shape=(6,), dtype=int64)\n"
     ]
    }
   ],
   "source": [
    "example = \"i returned to japan yesterday .\".split()\n",
    "print(tgt_lookup(example))"
   ]
  },
  {
   "cell_type": "markdown",
   "metadata": {},
   "source": [
    "#### 🤔 Task 2: Sanity-check that these numbers are correct\n",
    "\n",
    "Check your understanding of what's happening in the `StringLookup` layer by writing two lines of code:\n",
    "1. One that prints the token corresponding to the _second integer_ in the tensor above.\n",
    "2. One that prints the integer corresponding to the _second word_ (\"returned\") in the example above.\n",
    "\n",
    "Use `tgt_vocab` directly for that, not the lookup layer!"
   ]
  },
  {
   "cell_type": "code",
   "execution_count": 12,
   "metadata": {},
   "outputs": [
    {
     "name": "stdout",
     "output_type": "stream",
     "text": [
      "returned\n",
      "1005\n"
     ]
    }
   ],
   "source": [
    "## TODO: Your code here\n",
    "print(tgt_vocab[1005])\n",
    "print(tgt_vocab.index('returned'))\n"
   ]
  },
  {
   "cell_type": "markdown",
   "metadata": {
    "id": "T2fQzgkPCus9"
   },
   "source": [
    "### Wrapping everything in data loaders"
   ]
  },
  {
   "cell_type": "markdown",
   "metadata": {
    "id": "9MF4JRJVCus9"
   },
   "source": [
    "The next cell defines a function that wraps our dataset in TensorFlow's [`tf.data.Dataset`](https://www.tensorflow.org/api_docs/python/tf/data/Dataset) API, which represents map-style datasets. The advantage of this is that it lets us use standard infrastructure related to the loading and automatic batching of data."
   ]
  },
  {
   "cell_type": "code",
   "execution_count": 13,
   "metadata": {
    "id": "TkFTb0LkCus9",
    "tags": []
   },
   "outputs": [],
   "source": [
    "def append_eos(tensor):\n",
    "    \"Helper function that appends '<eos>' to a sequence.\"\n",
    "    return tf.concat([tensor, tf.constant([\"<eos>\"], dtype=tf.string)], axis=0)\n",
    "\n",
    "def load_translation_dataset(src_lookup, tgt_lookup, filename):\n",
    "    # Build source dataset and convert with src_lookup\n",
    "    src_dataset = tf.data.Dataset.from_tensor_slices(\n",
    "        tf.ragged.constant(list(sentences(filename, SWEDISH)))\n",
    "    )\n",
    "    src_dataset = src_dataset.map(src_lookup)\n",
    "\n",
    "    # Build target dataset, append <eos> and convert with tgt_lookup\n",
    "    tgt_dataset = tf.data.Dataset.from_tensor_slices(\n",
    "        tf.ragged.constant(list(sentences(filename, ENGLISH)))\n",
    "    )\n",
    "    tgt_dataset = tgt_dataset.map(append_eos).map(tgt_lookup)\n",
    "    \n",
    "    # Zip them together\n",
    "    return tf.data.Dataset.zip((src_dataset, tgt_dataset))"
   ]
  },
  {
   "cell_type": "markdown",
   "metadata": {
    "id": "wnPlzxWrCus-"
   },
   "source": [
    "We load the training data:"
   ]
  },
  {
   "cell_type": "code",
   "execution_count": 14,
   "metadata": {
    "id": "t1tyWbfbCus-",
    "tags": []
   },
   "outputs": [],
   "source": [
    "train_dataset = load_translation_dataset(src_lookup, tgt_lookup, \"en-sv-train.txt\")"
   ]
  },
  {
   "cell_type": "markdown",
   "metadata": {
    "id": "BoUAW-GcCus_"
   },
   "source": [
    "The following function can be helpful for debugging. It extracts a single source–target pair of sentences from the specified *dataset* and converts it into batches of size&nbsp;1, which can be fed into the encoder–decoder model. This also illustrates how the `Dataset` API works:"
   ]
  },
  {
   "cell_type": "code",
   "execution_count": 15,
   "metadata": {
    "id": "DC2j_oZyCus_",
    "tags": []
   },
   "outputs": [],
   "source": [
    "def example(dataset, i):\n",
    "    if i > 0:\n",
    "        dataset = dataset.skip(i-1)\n",
    "    return list(dataset.take(1).batch(1))[0]"
   ]
  },
  {
   "cell_type": "code",
   "execution_count": 16,
   "metadata": {
    "id": "dYhTBym7Cus_",
    "tags": []
   },
   "outputs": [
    {
     "name": "stdout",
     "output_type": "stream",
     "text": [
      "tf.Tensor([[  6  10 245  15  20   7]], shape=(1, 6), dtype=int64)\n",
      "tf.Tensor([[ 29   9 477  55  28   8   3]], shape=(1, 7), dtype=int64)\n"
     ]
    }
   ],
   "source": [
    "x, y = example(train_dataset, 42)\n",
    "print(x)\n",
    "print(y)"
   ]
  },
  {
   "cell_type": "markdown",
   "metadata": {
    "id": "Iw62gfhdCutA"
   },
   "source": [
    "## Part 2: The encoder–decoder architecture"
   ]
  },
  {
   "cell_type": "markdown",
   "metadata": {
    "id": "nB280fFjCutA"
   },
   "source": [
    "In this section, you will implement the encoder–decoder architecture, including the extension of that architecture by an attention mechanism. The implementation consists of four parts: the encoder, the attention mechanism, the decoder, and a class that wraps the complete architecture."
   ]
  },
  {
   "cell_type": "markdown",
   "metadata": {
    "id": "XUFFRKwGCutA"
   },
   "source": [
    "### Part 2.1: Implement the encoder"
   ]
  },
  {
   "cell_type": "markdown",
   "metadata": {
    "id": "mKeHOZyxCutA"
   },
   "source": [
    "The encoder is a component that takes an input tensor of vocabulary IDs, like the `x` tensor from the example above, and performs the following steps:\n",
    "\n",
    "1. Look up **word embeddings** for each token in the sequence.\n",
    "2. Process them with a **bi-directional recurrent neural network**. This works with any type of RNN, but we will use **GRU (gated recurrent unit) layers** throughout this laboration.\n",
    "3. Feed the output through a linear layer. We also take the last hidden state of the forward GRU and the last hidden state of the backward GRU, concatenate them, and pass them through a linear layer. This produces a \"summary\" of the source sentence, which we will later feed into the decoder."
   ]
  },
  {
   "cell_type": "markdown",
   "metadata": {},
   "source": [
    "Let's implement the encoder by defining it as a **custom Keras layer.** For this, we have to define a class that subclasses from `keras.layers.Layer`, instantiate all required model weights and/or (sub)layers in the `__init__()` function, and uses them to perform the layer's computation in the `call()` function. Below is some skeleton code to get you started; you can also [read more about making custom layers in the Keras Docs](https://keras.io/guides/making_new_layers_and_models_via_subclassing/)."
   ]
  },
  {
   "cell_type": "markdown",
   "metadata": {},
   "source": [
    "#### 🤔 Task 3: Implement the encoder by completing the skeleton code below"
   ]
  },
  {
   "cell_type": "code",
   "execution_count": 17,
   "metadata": {
    "id": "klNT7vTPCutB",
    "tags": []
   },
   "outputs": [],
   "source": [
    "class Encoder(layers.Layer):\n",
    "    def __init__(self, num_words, embedding_dim=128, hidden_dim=256):\n",
    "        super().__init__()\n",
    "        # TODO: Add your code here that defines the required layers/weights\n",
    "        self.embedding = layers.Embedding(input_dim = num_words, output_dim = embedding_dim, mask_zero = True)\n",
    "        self.rnn = layers.Bidirectional(layers.GRU(hidden_dim, return_sequences = True, return_state = True))\n",
    "        self.linear = layers.Dense(hidden_dim)\n",
    "\n",
    "    def call(self, inputs):\n",
    "        # TODO\n",
    "        # 1. Look up the embeddings for the source words\n",
    "        x = self.embedding(inputs)\n",
    "        # 2. Apply a bi-directional GRU over the source sequences\n",
    "        output, last_state1, last_state2  = self.rnn(x)\n",
    "        # 3. Apply a linear transformation to the GRU's output\n",
    "        output = self.linear(output)\n",
    "        # 4. Concatenate forward + backward hidden states and apply a linear transformation on them too\n",
    "        state = layers.concatenate([last_state1,last_state2],axis=1)\n",
    "        hidden = self.linear(state)\n",
    "        return (output, hidden)\n",
    "\n",
    "        raise NotImplementedError"
   ]
  },
  {
   "cell_type": "markdown",
   "metadata": {
    "id": "Ut1QP_1hCutB"
   },
   "source": [
    "Your code must comply with the following specification:\n",
    "\n",
    "**__init__** (*num_words*, *embedding_dim* = 128, *hidden_dim* = 256)\n",
    "\n",
    "> Initialises the encoder. The encoder consists of an embedding layer that maps each of *num_words* words to an embedding vector of size *embedding_dim*, a bidirectional GRU that maps each embedding vector to a position-specific representation of size 2 × *hidden_dim*, and a final linear layer that projects these representations to new representations of size *hidden_dim*.\n",
    "\n",
    "**call** (*self*, *inputs*)\n",
    "\n",
    "> Takes a tensor *inputs* with source-language word ids and sends it through the encoder. The input tensor has shape (*batch_size*, *src_len*), where *src_len* is the length of the sentences in the batch. (We will make sure that all sentences in the same batch have the same length.) The method returns a pair of tensors (*output*, *hidden*), where *output* has shape (*batch_size*, *src_len*, *hidden_dim*), and *hidden* has shape (*batch_size*, *hidden_dim*)."
   ]
  },
  {
   "cell_type": "markdown",
   "metadata": {
    "id": "xybpq39KCutC"
   },
   "source": [
    "#### 🤞 Test your code\n",
    "\n",
    "To test your code, instantiate an encoder, feed it the first source sentence in the training data, and check that the tensors returned by the encoder have the expected shapes."
   ]
  },
  {
   "cell_type": "code",
   "execution_count": 18,
   "metadata": {
    "id": "LU4SIh0NCutC",
    "tags": [
     "solution"
    ]
   },
   "outputs": [
    {
     "name": "stdout",
     "output_type": "stream",
     "text": [
      "(1, 6, 256)\n",
      "(1, 256)\n"
     ]
    }
   ],
   "source": [
    "def test21():\n",
    "    src, tgt = example(train_dataset, 42)\n",
    "    encoder = Encoder(src_lookup.vocabulary_size())\n",
    "    output, hidden = encoder(src)\n",
    "    print(output.shape)  # should be (batch_size, src_len, hidden_dim)\n",
    "    print(hidden.shape)  # should be (batch_size, hidden_dim)\n",
    "\n",
    "test21()"
   ]
  },
  {
   "cell_type": "code",
   "execution_count": 19,
   "metadata": {},
   "outputs": [
    {
     "data": {
      "text/plain": [
       "<tf.Tensor: shape=(1, 6), dtype=bool, numpy=array([[ True,  True,  True,  True,  True,  True]])>"
      ]
     },
     "execution_count": 19,
     "metadata": {},
     "output_type": "execute_result"
    }
   ],
   "source": [
    "#test\n",
    "src, tgt = example(train_dataset, 42)\n",
    "encoder = Encoder(src_lookup.vocabulary_size())\n",
    "output, hidden = encoder(src)\n",
    "outputt, hiddent = encoder(src)\n",
    "outputt[:,:,255] == outputt[:,:,-1]"
   ]
  },
  {
   "cell_type": "markdown",
   "metadata": {
    "id": "LnD4At5uCutD"
   },
   "source": [
    "### Part 2.2: Implement the attention mechanism"
   ]
  },
  {
   "cell_type": "markdown",
   "metadata": {
    "id": "twmxl69tCutD"
   },
   "source": [
    "Your next task is to implement the attention mechanism. Recall that the purpose of this mechanism is to inform the decoder when generating the translation of the next word. For this, attention has access to the previous hidden state of the decoder, as well as the complete output of the encoder. It returns the attention-weighted sum of the encoder output, the so-called *context* vector. For later usage, we also return the attention weights.\n",
    "\n",
    "As mentioned in the lecture, attention can be implemented in various ways. One very simple implementation is *uniform attention*, which assigns equal weight to each position-specific representation in the output of the encoder, and completely ignores the hidden state of the decoder. This mechanism is implemented in the cell below:"
   ]
  },
  {
   "cell_type": "code",
   "execution_count": 19,
   "metadata": {
    "id": "VK4LsCUfCutD",
    "tags": []
   },
   "outputs": [],
   "source": [
    "class UniformAttention(layers.Layer):\n",
    "    def __init__(self):\n",
    "        super().__init__()\n",
    "        self.supports_masking = True\n",
    "\n",
    "    def call(self, decoder_hidden, encoder_output, mask=None):\n",
    "        # Set all attention scores to the same constant value (0). After\n",
    "        # the softmax, we will have uniform weights.\n",
    "        scores = tf.zeros_like(encoder_output[:, :, -1])\n",
    "        # <tf.Tensor: shape=(1, 6), dtype=float32, numpy= ... > -1:last element\n",
    "        \n",
    "        # Mask out the attention scores for the padding tokens. We set\n",
    "        # them to -inf. After the softmax, we will have 0.\n",
    "        if mask is not None:\n",
    "            masked_value = -float('inf') * tf.ones_like(scores)\n",
    "            scores = tf.where(mask, scores, masked_value)\n",
    "        \n",
    "        # Convert scores into weights\n",
    "        alpha = tf.nn.softmax(scores, axis=1)\n",
    "        \n",
    "        # The context is the alpha-weighted sum of the encoder outputs.\n",
    "        context = tf.linalg.matmul(tf.expand_dims(alpha, axis=1), encoder_output)\n",
    "        # (1,1,6) %*% (1,6,256) -> (1,1,256)\n",
    "        context = tf.squeeze(context, axis=1)\n",
    "        # (1,1,256)-> (1,256)\n",
    "        \n",
    "        return alpha, context"
   ]
  },
  {
   "cell_type": "markdown",
   "metadata": {
    "id": "noYs0hSHCutE"
   },
   "source": [
    "One technical detail in this code is our use of *mask* to compute attention weights only for the ‘real’ tokens in the source sentences, but not for the padding tokens that we introduce to bring all sentences in a batch to the same length.\n",
    "\n",
    "Your task now is to implement the attention mechanism from the paper by [Bahdanau et al. (2015)](https://arxiv.org/abs/1409.0473). The relevant equation is in Section&nbsp;A.1.2:\n",
    "\n",
    "$$\n",
    "a(s_{i-1}, h_j) = v^{\\top} \\tanh(W s_{i-1} + U h_j)\n",
    "$$\n",
    "\n",
    "This equation specifies how to compute the attention score (a scalar) for the previous hidden state of the decoder, denoted by $s_{i-1}$, and the $j$-th position-specific representation in the output of the encoder, denoted by $h_j$. The equation refers to three parameters: a vector $v$ and $W$ and $U$. In PyTorch, these parameters can be represented in terms of (bias-free) linear layers that are trained along with the other parameters of the model.\n",
    "\n",
    "Here is the skeleton code for this problem. As you can see, your specific task is to initialise the required parameters and to compute the attention scores (*scores*); the rest of the code is the same as for the uniform attention."
   ]
  },
  {
   "cell_type": "markdown",
   "metadata": {},
   "source": [
    "#### 🤔 Task 4: Implement Bahdanau attention by completing the skeleton code below"
   ]
  },
  {
   "cell_type": "code",
   "execution_count": 20,
   "metadata": {
    "id": "RyclW2osCutE",
    "tags": []
   },
   "outputs": [],
   "source": [
    "class BahdanauAttention(layers.Layer):\n",
    "    def __init__(self, hidden_dim=256):\n",
    "        super().__init__()\n",
    "        self.supports_masking = True\n",
    "        # TODO: Add your code here that defines the required layers/weights\n",
    "        # self.w = layers.Dense(hidden_dim*hidden_dim,use_bias = False) # n*n\n",
    "        # self.w = layers.Reshape((hidden_dim,hidden_dim))\n",
    "        # self.w = layers.Dense(hidden_dim*hidden_dim,use_bias = False) # n*n\n",
    "        # self.u = layers.Dense(2*hidden_dim*hidden_dim,use_bias = False) # n*n\n",
    "        # self.v = layers.Dense(hidden_dim,use_bias = False) # n vector\n",
    "        self.w = layers.Dense(hidden_dim,use_bias = False)\n",
    "        self.u = layers.Dense(hidden_dim,use_bias = False) # n*n\n",
    "        self.v = layers.Dense(1,use_bias = False) # n vector\n",
    "\n",
    "    def call(self, decoder_hidden, encoder_output, mask=None):\n",
    "        # s:decoder_hidden: shape(batch_size, hidden_dim)\n",
    "        # h:encoder_output: shape(batch_size, src_len, hidden_dim)\n",
    "        # TODO: Replace the next line with your own code that computes the attention scores\n",
    "        uh = self.u(encoder_output) # (batch_size, src_len, hidden_dim)\n",
    "        ws = self.w(tf.expand_dims(decoder_hidden, 1)) # (batch_size, 1, hidden_dim)\n",
    "        scores = self.v(tf.nn.tanh(uh+ws)) # (batch_size, src_len, 1)\n",
    "        scores = tf.squeeze(scores, axis=2) # (batch_size, src_len)\n",
    "\n",
    "        # ... The rest of the code is as in UniformAttention — NO NEED TO MODIFY BELOW THIS LINE!\n",
    "\n",
    "        # Mask out the attention scores for the padding tokens. We set\n",
    "        # them to -inf. After the softmax, we will have 0.\n",
    "        if mask is not None:\n",
    "            masked_value = -float('inf') * tf.ones_like(scores)\n",
    "            scores = tf.where(mask, scores, masked_value)\n",
    "        \n",
    "        # Convert scores into weights\n",
    "        alpha = tf.nn.softmax(scores, axis=1)\n",
    "        # alpha: shape(batch_size, src_len)\n",
    "        \n",
    "        # The context is the alpha-weighted sum of the encoder outputs.\n",
    "        context = tf.linalg.matmul(tf.expand_dims(alpha, axis=1), encoder_output)\n",
    "        context = tf.squeeze(context, axis=1)\n",
    "        # context: shape(batch_size, hidden_dim)\n",
    "        \n",
    "        return alpha, context"
   ]
  },
  {
   "attachments": {},
   "cell_type": "markdown",
   "metadata": {
    "id": "cTB0RPfDCutF"
   },
   "source": [
    "Your code must comply with the following specification:\n",
    "\n",
    "**call** (*decoder_hidden*, *encoder_output*, *mask*)\n",
    "\n",
    "> Takes the previous hidden state of the decoder (*decoder_hidden*) and the encoder output (*encoder_output*) and returns a pair (*alpha*, *context*) where *context* is the context as computed as in [Bahdanau et al. (2015)](https://arxiv.org/abs/1409.0473), and *alpha* are the corresponding attention weights. The hidden state has shape (*batch_size*, *hidden_dim*), the encoder output has shape (*batch_size*, *src_len*, *hidden_dim*), the context has shape (*batch_size*, *hidden_dim*), and the attention weights have shape (*batch_size*, *src_len*).\n",
    "\n",
    "#### 💡 Hints on the implementation\n",
    "\n",
    "You may need a few more \"low-level\" TensorFlow functions to implement this part, concretely:\n",
    "    \n",
    "- `tf.expand_dims()` and `tf.squeeze()` to add/remove a dimension from a tensor. This is because some tensors have a \"timestep\" dimension while others (e.g. the hidden state of the decoder) don't.\n",
    "- `tf.nn.tanh()` to compute the $\\tanh$ function on a tensor."
   ]
  },
  {
   "cell_type": "markdown",
   "metadata": {
    "id": "OxNwwlmuCutF"
   },
   "source": [
    "#### 🤞 Test your code\n",
    "\n",
    "To test your code, extend your test from Task 3: Feed the output of your encoder into your attention class. As the previous hidden state of the decoder, you can use the hidden state returned by the encoder. Later, you don't need to pass the mask explicitly (Keras will do this automatically), but for testing purposes, you can obtain the mask from a layer's output via `output._keras_mask`.\n",
    "\n",
    "Check that the context tensor and the attention weights returned by the attention class have the expected shapes."
   ]
  },
  {
   "cell_type": "code",
   "execution_count": 21,
   "metadata": {
    "id": "ZUqLpHXiCutG",
    "tags": [
     "solution"
    ]
   },
   "outputs": [
    {
     "name": "stdout",
     "output_type": "stream",
     "text": [
      "(1, 6)\n",
      "(1, 256)\n"
     ]
    }
   ],
   "source": [
    "def test22():\n",
    "    src, tgt = example(train_dataset, 42)\n",
    "    encoder = Encoder(src_lookup.vocabulary_size())\n",
    "    output, hidden = encoder(src)\n",
    "\n",
    "    \n",
    "\n",
    "    attention = BahdanauAttention()\n",
    "    alpha, context = attention(hidden, output, mask=output._keras_mask)\n",
    "    print(alpha.shape)    # should be (batch_size, src_len)\n",
    "    print(context.shape)  # should be (batch_size, hidden_dim)\n",
    "\n",
    "test22()"
   ]
  },
  {
   "cell_type": "markdown",
   "metadata": {
    "id": "fB2A4Qa1CutG"
   },
   "source": [
    "### Part 2.3: Implement the decoder"
   ]
  },
  {
   "cell_type": "markdown",
   "metadata": {
    "id": "AO_4A4XXCutH"
   },
   "source": [
    "Now you are ready to implement the decoder. Like the encoder, the decoder is based on a GRU; but this time we use a unidirectional network, as we generate the target sentences left-to-right.\n",
    "\n",
    "**⚠️ We expect that solving this problem will take you the longest time in this lab.**\n",
    "\n",
    "Because the decoder is an autoregressive model, we need to unroll the GRU \"manually\": At each position, we take the previous hidden state as well as the new input, and apply the GRU for one step. The initial hidden state comes from the encoder. The new input is the embedding of the previous word, concatenated with the context vector from the attention model. To produce the final output, we take the output of the GRU, concatenate the embedding vector and the context vector (residual connection), and feed the result into a linear layer. Here is a graphical representation:\n",
    "\n",
    "<img src=\"https://gitlab.liu.se/nlp/nlp-course/-/raw/master/labs/l3/decoder.svg\" width=\"50%\" alt=\"Decoder architecture\"/>\n",
    "\n",
    "We need to implement this manual unrolling for two very similar tasks: When *training*, both the inputs to and the target outputs of the GRU come from the training data. When *decoding*, the outputs of the GRU are used to generate new target-side words, and these words become the inputs to the next step of the unrolling. **We have already implemented the `call` method that handles both these two different modes of usage — you don't need to modify this.**"
   ]
  },
  {
   "cell_type": "markdown",
   "metadata": {},
   "source": [
    "#### 🤔 Task 5: Implement the `step` method that takes a single step with the GRU\n",
    "\n",
    "You will also need to add any necessary layers/weights that you use in the `__init__` function."
   ]
  },
  {
   "cell_type": "code",
   "execution_count": 22,
   "metadata": {
    "id": "xBDjsJ-1CutH",
    "tags": []
   },
   "outputs": [],
   "source": [
    "class Decoder(layers.Layer):\n",
    "    def __init__(self, trg_lookup, attention, embedding_dim=128, hidden_dim=256, max_len=16):\n",
    "        super().__init__()\n",
    "        num_words = trg_lookup.vocabulary_size()\n",
    "        self.embedding = layers.Embedding(num_words, embedding_dim, mask_zero=True)\n",
    "        self.bos_index = trg_lookup([\"<bos>\"]).numpy()\n",
    "        self.max_len = max_len\n",
    "        # TODO: Add your code here that defines the required layers/weights\n",
    "        self.attention = BahdanauAttention()\n",
    "        self.rnn_cell = layers.GRUCell(hidden_dim)\n",
    "        self.linear = layers.Dense(num_words)\n",
    "\n",
    "    def call(self, encoder_output, initial_state, targets=None, training=False, mask=None):\n",
    "        # YOU WON'T NEED TO MODIFY ANYTHING IN THIS FUNCTION.\n",
    "\n",
    "        if training:\n",
    "            assert targets is not None\n",
    "\n",
    "        # Initialise the hidden state from `initial_state`\n",
    "        state = initial_state\n",
    "        \n",
    "        # Initialise the decoder input with the `<bos>` symbol\n",
    "        next_input = self.bos_index * tf.ones_like(initial_state, dtype=tf.int64)\n",
    "        next_input = next_input[:, 0]\n",
    "        \n",
    "        # Initialise the list of outputs and attention weights\n",
    "        outputs = tf.TensorArray(\n",
    "            tf.float32,\n",
    "            size=0 if training else self.max_len,\n",
    "            dynamic_size=training,\n",
    "        )\n",
    "        alphas = tf.TensorArray(\n",
    "            tf.float32,\n",
    "            size=0 if training else self.max_len,\n",
    "            dynamic_size=training,\n",
    "        )\n",
    "        inputs = tf.TensorArray(\n",
    "            tf.int64,\n",
    "            size=0 if training else self.max_len,\n",
    "            dynamic_size=training,\n",
    "        )\n",
    "\n",
    "        # In training mode, we iterate over the length of the target sentences,\n",
    "        # otherwise we iterate until `self.max_len` is reached\n",
    "        max_len = tf.shape(targets)[1] if training else self.max_len\n",
    "        \n",
    "        for i in range(max_len):\n",
    "            # In training mode, we feed the correct (gold) predictions as the next input\n",
    "            if training and i > 0:\n",
    "                next_input = targets[:, i-1]\n",
    "            \n",
    "            # Get the embedding for the previous word\n",
    "            prev_embed = self.embedding(next_input)\n",
    "            \n",
    "            # Take one step with the RNN\n",
    "            step_output, state, alpha = self.step(encoder_output, state, prev_embed, mask=mask)\n",
    "            \n",
    "            # Update the list of generated words and attention weights\n",
    "            outputs = outputs.write(i, step_output)\n",
    "            alphas = alphas.write(i, alpha)\n",
    "            inputs = inputs.write(i, next_input)\n",
    "\n",
    "            # Set the prediction with highest probability as the input for the next timestep\n",
    "            if not training:\n",
    "                next_input = tf.math.argmax(step_output, axis=-1)\n",
    "\n",
    "        # Lists of outputs and attention weights are [tgt_len, batch_size, *],\n",
    "        # so we transpose them to have the batch dimension in first place again.\n",
    "        outputs = tf.transpose(outputs.stack(), perm=[1,0,2])\n",
    "        alphas = tf.transpose(alphas.stack(), perm=[1,0,2])\n",
    "        inputs = tf.transpose(inputs.stack(), perm=[1,0])\n",
    "        outputs._keras_mask = (inputs != 0)\n",
    "        \n",
    "        return outputs, alphas\n",
    "    \n",
    "    def step(self, encoder_output, hidden_state, prev_embed, mask=None):\n",
    "        # TODO: Replace the next line with your own code; this should follow the illustration above.\n",
    "        # 1. Get the attention weights and context vector\n",
    "        alpha, context = self.attention(hidden_state, encoder_output, mask=mask)\n",
    "        # 2. Concatenate the inputs for the GRU\n",
    "        rnn_input = layers.concatenate([context, prev_embed],axis=1)\n",
    "        # 3. Take one step with the GRU cell\n",
    "        rnn_output, hidden_state = self.rnn_cell(rnn_input, hidden_state)\n",
    "        # 4. Concatenate the respective tensors to produce the final output\n",
    "        output = layers.concatenate([rnn_input, rnn_output],axis=1)\n",
    "        output = self.linear(output)\n",
    "        \n",
    "        return output, hidden_state, alpha"
   ]
  },
  {
   "cell_type": "markdown",
   "metadata": {
    "id": "ej2-lzyVCutH"
   },
   "source": [
    "Your implementation should comply with the following specification:\n",
    "\n",
    "**step** (*self*, *encoder_output*, *hidden*, *prev_embed*, *mask*)\n",
    "\n",
    "> Performs a single step in the manual unrolling of the decoder GRU. This takes the output of the encoder (*encoder_output*), the previous hidden state of the decoder (*hidden*), the embedding vector of the previous word (*prev_embed*), and the source mask as described in Problem&nbsp;2.2 (*mask*), and computes the output as described above.\n",
    ">\n",
    "> The shape of *encoder_output* is (*batch_size*, *src_len*, *hidden_dim*); the shape of *hidden* is (*batch_size*, *hidden_dim*); the shape of *src_mask* is (*batch_size*, *src_len*); and the shape of *prev_embed* is (*batch_size*, *embedding_dim*).\n",
    ">\n",
    "> The method returns a triple of tensors (*output*, *hidden*, *alpha*) where *output* is the position-specific output of the GRU, of shape (*batch_size*, *num_words*); *hidden* is the new hidden state, of shape (*batch_size*, *hidden_dim*); and *alpha* are the attention weights that were used to compute the *output*, of shape (*batch_size*, *src_len*).\n",
    "\n",
    "#### 💡 Hints on the implementation\n",
    "\n",
    "**GRU vs. GRUCell.** In Keras, an RNN layer like `GRU` is used to process an entire sequence. A single *time-step* of a sequence is handled by a [`GRUCell`](https://www.tensorflow.org/api_docs/python/tf/keras/layers/GRUCell) instead. You can think of a `GRU` layer as functionally equivalent to a for-loop around a `GRUCell`. Since we want to perform the RNN steps individually for this model, you should use a [`GRUCell`](https://www.tensorflow.org/api_docs/python/tf/keras/layers/GRUCell) instead of a `GRU` layer here."
   ]
  },
  {
   "cell_type": "markdown",
   "metadata": {
    "id": "cFvNiX-YCutI"
   },
   "source": [
    "#### 🤞 Test your code\n",
    "\n",
    "To test your code, extend your test from the previous problems, and simulate a complete forward pass of the encoder–decoder architecture on the example sentence. Check the shapes of the resulting tensors."
   ]
  },
  {
   "cell_type": "code",
   "execution_count": 23,
   "metadata": {
    "id": "65lLG-bBCutI",
    "tags": [
     "solution"
    ]
   },
   "outputs": [
    {
     "name": "stdout",
     "output_type": "stream",
     "text": [
      "(4, 16, 5000)\n",
      "(4, 16, 5)\n",
      "(4, 8, 5000)\n"
     ]
    }
   ],
   "source": [
    "def test23():\n",
    "    src, tgt = list(train_dataset.take(4).padded_batch(4))[0]\n",
    "    encoder = Encoder(src_lookup.vocabulary_size())\n",
    "    encoder_output, hidden = encoder(src)\n",
    "    attention = BahdanauAttention()\n",
    "    decoder = Decoder(tgt_lookup, attention)\n",
    "    decoded, alphas = decoder(encoder_output, hidden)\n",
    "    print(decoded.shape)  # should be (batch_size, max_len, vocabulary_size)\n",
    "    print(alphas.shape)   # should be (batch_size, max_len, src_len)\n",
    "    decoded, _ = decoder(encoder_output, hidden, targets=tgt, training=True)\n",
    "    print(decoded.shape)  # should be (batch_size, tgt_len, vocabulary_size)\n",
    "\n",
    "test23()"
   ]
  },
  {
   "cell_type": "markdown",
   "metadata": {
    "id": "70yHTFS9CutJ"
   },
   "source": [
    "### Encoder–Decoder wrapper class"
   ]
  },
  {
   "cell_type": "markdown",
   "metadata": {
    "id": "DeKfvES5CutJ"
   },
   "source": [
    "The last part of the implementation is a class that wraps the encoder and the decoder as a single model.  We also implement a custom `train_step` function so that the gold targets will get passed to the decoder during training, and a custom `test_step` function to make sure the decoded sequences and the gold sequences are padded to the same length before computing losses and evaluation metrics."
   ]
  },
  {
   "cell_type": "code",
   "execution_count": 24,
   "metadata": {
    "id": "lUjIGniZCutJ",
    "tags": []
   },
   "outputs": [],
   "source": [
    "class EncoderDecoder(keras.Model):\n",
    "    def __init__(self, src_lookup, tgt_lookup, embedding_dim=128, hidden_dim=256, max_len=16, **kwargs):\n",
    "        super().__init__(**kwargs)\n",
    "        self.encoder = Encoder(\n",
    "            src_lookup.vocabulary_size(),\n",
    "            embedding_dim=embedding_dim,\n",
    "            hidden_dim=hidden_dim\n",
    "        )\n",
    "        self.decoder = Decoder(\n",
    "            tgt_lookup,\n",
    "            BahdanauAttention(hidden_dim=hidden_dim),\n",
    "            embedding_dim=embedding_dim,\n",
    "            hidden_dim=hidden_dim,\n",
    "            max_len=max_len,\n",
    "        )\n",
    "    \n",
    "    def call(self, inputs, training=False, targets=None):\n",
    "        x_out, x_hidden = self.encoder(inputs, training=training)\n",
    "        outputs, alphas = self.decoder(x_out, x_hidden, training=training, targets=targets)\n",
    "        if training:\n",
    "            return outputs\n",
    "        else:\n",
    "            return outputs, alphas\n",
    "    \n",
    "    # Following <https://keras.io/guides/customizing_what_happens_in_fit/>\n",
    "    def train_step(self, data):\n",
    "        x, y = data\n",
    "        \n",
    "        with tf.GradientTape() as tape:\n",
    "            # Here we supply \"targets\" so that the decoder has access to it\n",
    "            y_pred = self(x, training=True, targets=y)\n",
    "            loss = self.compiled_loss(y, y_pred, regularization_losses=self.losses)\n",
    "        \n",
    "        trainable_vars = self.trainable_variables\n",
    "        gradients = tape.gradient(loss, trainable_vars)\n",
    "        self.optimizer.apply_gradients(zip(gradients, trainable_vars))\n",
    "        self.compiled_metrics.update_state(y, y_pred)\n",
    "        return {m.name: m.result() for m in self.metrics}\n",
    "    \n",
    "    def test_step(self, data):\n",
    "        x, y = data\n",
    "        y_pred, _alphas = self(x, training=False)\n",
    "\n",
    "        # Pad sequences to the same number of time-steps\n",
    "        max_len = tf.math.maximum(tf.shape(y)[1], tf.shape(y_pred)[1])\n",
    "        y_pad = [[0, 0], [0, max_len - tf.shape(y)[1]]]\n",
    "        y = tf.pad(y, y_pad)\n",
    "        y_pred_pad = [[0, 0], [0, max_len - tf.shape(y_pred)[1]], [0, 0]]\n",
    "        y_pred = tf.pad(y_pred, y_pred_pad)\n",
    "            \n",
    "        self.compute_loss(x, y, y_pred, None)\n",
    "        return self.compute_metrics(x, y, y_pred, None)"
   ]
  },
  {
   "cell_type": "markdown",
   "metadata": {
    "id": "u3uW3TKACutK"
   },
   "source": [
    "#### 🤞 Test your code\n",
    "\n",
    "As a final test, instantiate an encoder–decoder model and use it to decode the example sentence. Check the shapes of the resulting tensors."
   ]
  },
  {
   "cell_type": "code",
   "execution_count": 25,
   "metadata": {
    "id": "oO6zONDwCutK",
    "tags": []
   },
   "outputs": [
    {
     "name": "stdout",
     "output_type": "stream",
     "text": [
      "(1, 16, 5000)\n",
      "(1, 16, 6)\n"
     ]
    }
   ],
   "source": [
    "def test24():\n",
    "    src, tgt = example(train_dataset, 42)\n",
    "    encoder_decoder = EncoderDecoder(src_lookup, tgt_lookup)\n",
    "    outputs, alphas = encoder_decoder(src)\n",
    "    print(outputs.shape)  # should be (batch_size, max_len, vocabulary_size)\n",
    "    print(alphas.shape)   # should be (batch_size, max_len, src_len)\n",
    "\n",
    "test24()"
   ]
  },
  {
   "cell_type": "markdown",
   "metadata": {
    "id": "laK9bbq8CutL"
   },
   "source": [
    "## Part 3: Train a translator"
   ]
  },
  {
   "cell_type": "markdown",
   "metadata": {
    "id": "Q68aWc_2CutL"
   },
   "source": [
    "We now have all the pieces to build and train a complete translation system."
   ]
  },
  {
   "cell_type": "markdown",
   "metadata": {
    "id": "w5MYw2PJCutL"
   },
   "source": [
    "### Translator class\n",
    "\n",
    "We first define a class `Translator` that initialises an encoder–decoder model and uses it to translate sentences."
   ]
  },
  {
   "cell_type": "code",
   "execution_count": 26,
   "metadata": {
    "id": "Evi-J7BfCutM",
    "tags": []
   },
   "outputs": [],
   "source": [
    "class Translator:\n",
    "    def __init__(self, src_lookup, tgt_lookup, batch_size=32, **kwargs):\n",
    "        self.src_lookup = src_lookup\n",
    "        self.tgt_lookup = tgt_lookup\n",
    "        self.model = EncoderDecoder(src_lookup, tgt_lookup, **kwargs)\n",
    "        self.tgt_vocab = tgt_lookup.get_vocabulary()\n",
    "        self.eos_index = self.tgt_vocab.index(\"<eos>\")\n",
    "        self.batch_size = batch_size\n",
    "\n",
    "    def compile(self, *args, **kwargs):\n",
    "        return self.model.compile(*args, **kwargs)\n",
    "\n",
    "    def fit(self, *args, **kwargs):\n",
    "        return self.model.fit(*args, **kwargs)\n",
    "\n",
    "    def translate(self, sentences, return_alphas=False):\n",
    "        \"\"\"This function takes sentences and returns their translation as a string.\n",
    "        \n",
    "        `sentences` can be either:\n",
    "          - A tf.data.Dataset object\n",
    "          - A list of strings\n",
    "        \"\"\"\n",
    "        if isinstance(sentences, tf.data.Dataset):\n",
    "            inputs = sentences\n",
    "        elif isinstance(sentences, (list, tuple)):\n",
    "            inputs = (\n",
    "                tf.data.Dataset.from_tensor_slices(\n",
    "                    tf.ragged.constant([x.split() for x in sentences])\n",
    "                )\n",
    "                .map(self.src_lookup)\n",
    "                .padded_batch(min(self.batch_size, len(sentences)))\n",
    "            )\n",
    "        else:\n",
    "            raise ValueError(f\"'sentences' should be either a tf.Dataset or a list of strings; got: {type(sentences)}\")\n",
    "\n",
    "        outputs, alphas = self.model.predict(inputs, verbose=0)\n",
    "        outputs = tf.math.argmax(outputs, axis=-1).numpy().tolist()\n",
    "        try:\n",
    "            alphas = alphas.numpy().tolist()\n",
    "        except AttributeError:\n",
    "            alphas = alphas.tolist()\n",
    "        generated = []\n",
    "\n",
    "        for y_pred, alpha in zip(outputs, alphas):\n",
    "            try:\n",
    "                eos_idx = y_pred.index(self.eos_index)\n",
    "                del y_pred[eos_idx:]\n",
    "                del alpha[eos_idx:]\n",
    "            except ValueError:\n",
    "                pass\n",
    "            tokens = [self.tgt_vocab[idx] for idx in y_pred if idx > 0]\n",
    "            tokens = \" \".join(tokens)\n",
    "            if return_alphas:\n",
    "                generated.append((tokens, alpha))\n",
    "            else:\n",
    "                generated.append(tokens)\n",
    "\n",
    "        return generated\n",
    "        \n",
    "    def translate_with_attention(self, sentences):\n",
    "        return self.translate(sentences, return_alphas=True)"
   ]
  },
  {
   "cell_type": "markdown",
   "metadata": {
    "id": "2660iyt-CutN"
   },
   "source": [
    "The code below shows how this class is supposed to be used (its output will be nonsensical right now, of course, since the model hasn't been trained yet):"
   ]
  },
  {
   "cell_type": "code",
   "execution_count": 27,
   "metadata": {
    "id": "NFiJLKRXCutN",
    "tags": []
   },
   "outputs": [
    {
     "data": {
      "text/plain": [
       "['virus crafty in stew injured weekdays washing bombing known clear crowbar crack again was wearing warning',\n",
       " 'cursive race wall pair taller fainted regret buys rainbow each released disagrees willing adjustments thinking oh']"
      ]
     },
     "execution_count": 27,
     "metadata": {},
     "output_type": "execute_result"
    }
   ],
   "source": [
    "translator = Translator(src_lookup, tgt_lookup)\n",
    "# Alternative \"mini\" version of the model for testing:\n",
    "#translator = Translator(src_lookup, tgt_lookup, embedding_dim=32, hidden_dim=64, batch_size=16, max_len=8)\n",
    "translator.translate(['stäng av vattnet .', 'jag älskar friterade bananer .'])"
   ]
  },
  {
   "cell_type": "markdown",
   "metadata": {
    "id": "2cFT9atlCutO"
   },
   "source": [
    "### Evaluation function\n",
    "\n",
    "As mentioned in the lecture, machine translation systems are typically evaluated using the **BLEU metric**. Here we use the implementation of this metric from the `sacrebleu` library."
   ]
  },
  {
   "cell_type": "code",
   "execution_count": 29,
   "metadata": {
    "tags": []
   },
   "outputs": [],
   "source": [
    "from sacrebleu.metrics import BLEU\n",
    "bleu_params = dict(effective_order=True, tokenize=\"none\", force=True, smooth_method=\"floor\", smooth_value=0.01)\n",
    "bleu = BLEU(**bleu_params)"
   ]
  },
  {
   "cell_type": "markdown",
   "metadata": {},
   "source": [
    "If the test sentence is exactly identical to the reference sentence, the score will be 100 (plus/minus potential floating point rounding errors):"
   ]
  },
  {
   "cell_type": "code",
   "execution_count": 30,
   "metadata": {},
   "outputs": [
    {
     "data": {
      "text/plain": [
       "100.00000000000004"
      ]
     },
     "execution_count": 30,
     "metadata": {},
     "output_type": "execute_result"
    }
   ],
   "source": [
    "bleu.sentence_score(\"the house is blue .\", [\"the house is blue .\"]).score"
   ]
  },
  {
   "cell_type": "markdown",
   "metadata": {},
   "source": [
    "If we change some words, the score will go down, though never below zero:"
   ]
  },
  {
   "cell_type": "code",
   "execution_count": 31,
   "metadata": {
    "tags": []
   },
   "outputs": [
    {
     "data": {
      "text/plain": [
       "3.9763536438352522"
      ]
     },
     "execution_count": 31,
     "metadata": {},
     "output_type": "execute_result"
    }
   ],
   "source": [
    "bleu.sentence_score(\"the house was red .\", [\"the house is blue .\"]).score"
   ]
  },
  {
   "cell_type": "markdown",
   "metadata": {},
   "source": [
    "Here is a helper function that takes a trained `Translator` model as well as a `Dataset`, runs all sentences through the translator, and computes the BLEU score for the entire dataset:"
   ]
  },
  {
   "cell_type": "code",
   "execution_count": 32,
   "metadata": {
    "tags": []
   },
   "outputs": [],
   "source": [
    "def compute_bleu(translator, dataset):\n",
    "    hyp = translator.translate(dataset)\n",
    "    ref = [\n",
    "        \" \".join(translator.tgt_vocab[idx] for idx in s if idx not in (0, translator.eos_index))\n",
    "        for s in dataset.unbatch().map(lambda _, x: x).as_numpy_iterator()\n",
    "    ]\n",
    "    return bleu.corpus_score(hyp, [ref]).score"
   ]
  },
  {
   "cell_type": "markdown",
   "metadata": {
    "id": "Ozk1hurqCutP"
   },
   "source": [
    "We want to report the BLEU score on the **validation data**, so let's load this as well:"
   ]
  },
  {
   "cell_type": "code",
   "execution_count": 33,
   "metadata": {
    "id": "HNtBMDVqCutP",
    "tags": []
   },
   "outputs": [],
   "source": [
    "valid_dataset = load_translation_dataset(src_lookup, tgt_lookup, \"en-sv-valid.txt\")"
   ]
  },
  {
   "cell_type": "markdown",
   "metadata": {
    "id": "xe2rPzwmCutQ"
   },
   "source": [
    "### Batching\n",
    "\n",
    "So far we only tested our code on \"batches\" with a single sentence. In order to use larger batches, we need to make sure that all of the sentences in a batch have the same length. We achieve this by _padding_ the shorter sentences to the length of the longest one. Luckily, the `tf.Dataset` class has a function [`padded_batch`](https://www.tensorflow.org/api_docs/python/tf/data/Dataset#padded_batch) that will do this for us. If we provide a `Dataset` for training, Keras won't shuffle the data automatically, so we also have to [`shuffle`](https://www.tensorflow.org/api_docs/python/tf/data/Dataset#shuffle) the dataset explicitly. (For validation, shuffling doesn't matter.)"
   ]
  },
  {
   "cell_type": "code",
   "execution_count": 34,
   "metadata": {
    "id": "X-yfmnSzCutQ",
    "tags": []
   },
   "outputs": [],
   "source": [
    "train_batched = train_dataset.shuffle(512).padded_batch(64)\n",
    "valid_batched = valid_dataset.padded_batch(64)"
   ]
  },
  {
   "cell_type": "markdown",
   "metadata": {
    "id": "FfM1Ov-sCutQ"
   },
   "source": [
    "### Training\n",
    "\n",
    "Training works as for any other Keras model: we first need to `compile` the model with the optimizer, loss function, and validation metrics that we want to use."
   ]
  },
  {
   "cell_type": "code",
   "execution_count": 35,
   "metadata": {
    "id": "yr4VP-SpCutQ",
    "tags": []
   },
   "outputs": [],
   "source": [
    "translator.compile(\n",
    "    optimizer=keras.optimizers.Adam(learning_rate=2e-3),\n",
    "    loss=keras.losses.SparseCategoricalCrossentropy(from_logits=True)\n",
    ")"
   ]
  },
  {
   "cell_type": "markdown",
   "metadata": {
    "id": "KgXElolrCutR"
   },
   "source": [
    "Now it is time to train the system. During training, these diagnostics will be updated periodically: the running average of the training loss; after a full epoch, the loss and the BLEU score on the validation data will be computed and printed.\n",
    "\n",
    "Let's also define a callback that additionally prints the translation of a sample sentence, *jag saknar min familj* (which should translate into *i miss my family*), every 50 batches:"
   ]
  },
  {
   "cell_type": "code",
   "execution_count": 36,
   "metadata": {
    "tags": []
   },
   "outputs": [],
   "source": [
    "my_callbacks = [\n",
    "    keras.callbacks.LambdaCallback(\n",
    "        on_train_batch_end=lambda b, _: tf.print(\" - jag saknar min familj . ->\", translator.translate(['jag saknar min familj .'])[0]) if b > 0 and b % 50 == 0 else None,\n",
    "        on_epoch_end=lambda _, l: l.__setitem__(\"val_bleu\", compute_bleu(translator, valid_batched))\n",
    "    )\n",
    "]"
   ]
  },
  {
   "cell_type": "markdown",
   "metadata": {},
   "source": [
    "#### 🤔 Task 6: Run the model training\n",
    "\n",
    "Run the following code cells that train the model and evaluate it on the validation data.\n",
    "\n",
    "Training the translator takes quite a bit of compute power and time. The default number of epochs is 2; however, you may want to try training for longer, or interrupt the training prematurely and use a partially trained model in case you run out of time.\n",
    "\n",
    "**⚠️ Your submitted notebook must contain output demonstrating at least 20 BLEU points on the validation data.**"
   ]
  },
  {
   "cell_type": "code",
   "execution_count": 37,
   "metadata": {
    "id": "VW8wF8oRCutR",
    "tags": []
   },
   "outputs": [
    {
     "name": "stdout",
     "output_type": "stream",
     "text": [
      "Epoch 1/2\n",
      " 50/322 [===>..........................] - ETA: 1:51 - loss: 5.2408 - jag saknar min familj . -> i ' t .\n",
      "100/322 [========>.....................] - ETA: 1:32 - loss: 4.4897 - jag saknar min familj . -> i ' m a little .\n",
      "150/322 [============>.................] - ETA: 1:06 - loss: 4.0519 - jag saknar min familj . -> i ' m a lot .\n",
      "200/322 [=================>............] - ETA: 45s - loss: 3.7490 - jag saknar min familj . -> i love my job .\n",
      "250/322 [======================>.......] - ETA: 26s - loss: 3.5068 - jag saknar min familj . -> i love my wife .\n",
      "300/322 [==========================>...] - ETA: 7s - loss: 3.2997 - jag saknar min familj . -> i love my room .\n",
      "322/322 [==============================] - 142s 410ms/step - loss: 3.2209 - val_loss: 4.3177 - val_bleu: 15.3770\n",
      "Epoch 2/2\n",
      " 50/322 [===>..........................] - ETA: 1:29 - loss: 2.0945 - jag saknar min familj . -> i love my brother .\n",
      "100/322 [========>.....................] - ETA: 1:11 - loss: 2.0045 - jag saknar min familj . -> i ' m back .\n",
      "150/322 [============>.................] - ETA: 55s - loss: 1.9239 - jag saknar min familj . -> i miss my family .\n",
      "200/322 [=================>............] - ETA: 39s - loss: 1.8556 - jag saknar min familj . -> i miss my family .\n",
      "250/322 [======================>.......] - ETA: 23s - loss: 1.7857 - jag saknar min familj . -> i miss my family .\n",
      "300/322 [==========================>...] - ETA: 7s - loss: 1.7125 - jag saknar min familj . -> i miss my family .\n",
      "322/322 [==============================] - 114s 354ms/step - loss: 1.6832 - val_loss: 4.5850 - val_bleu: 29.4095\n",
      "CPU times: user 12min 10s, sys: 24.4 s, total: 12min 34s\n",
      "Wall time: 4min 16s\n"
     ]
    }
   ],
   "source": [
    "%%time\n",
    "try:\n",
    "    translator.fit(train_batched, epochs=2, validation_data=valid_batched, callbacks=my_callbacks)\n",
    "except KeyboardInterrupt:\n",
    "    pass"
   ]
  },
  {
   "cell_type": "code",
   "execution_count": 38,
   "metadata": {
    "tags": []
   },
   "outputs": [
    {
     "data": {
      "text/plain": [
       "29.40953861657073"
      ]
     },
     "execution_count": 38,
     "metadata": {},
     "output_type": "execute_result"
    }
   ],
   "source": [
    "compute_bleu(translator, valid_batched)"
   ]
  },
  {
   "cell_type": "markdown",
   "metadata": {},
   "source": [
    "#### ℹ️ Some notes on the translations\n",
    "\n",
    "If you try out sentences to see their translation (like in the code cell below), you might find some possibly surprising results, such as:\n",
    "\n",
    "- **Translations that are seemingly nonsensical or have nothing to do with the input.** This might be because the model is undertrained; you could try training for more epochs to see if the translations improve. It's also possible that you tried words or phrases that were just not well-represented in the training data.\n",
    "- **Translations that have a lot of `<unk>`s.** This might be due to the words just not being present in the model's vocabulary! Remember you can check this with the vocabularies you created, e.g. `\"friterade\" in src_vocab`. You could try increasing the vocabulary size and see if the results improve, but this will also increase training time.\n",
    "\n",
    "Finally, keep in mind that both the dataset and the model itself is quite tiny, as it's optimized for speed and demonstration purposes rather than efficiency!"
   ]
  },
  {
   "cell_type": "code",
   "execution_count": 39,
   "metadata": {},
   "outputs": [
    {
     "data": {
      "text/plain": [
       "['i miss my family .', 'close the tv .', 'i love the bananas .']"
      ]
     },
     "execution_count": 39,
     "metadata": {},
     "output_type": "execute_result"
    }
   ],
   "source": [
    "translator.translate(['jag saknar min familj . ', 'stäng av vattnet .', 'jag älskar friterade bananer .'])"
   ]
  },
  {
   "cell_type": "markdown",
   "metadata": {
    "id": "7677Q0QLCutS"
   },
   "source": [
    "# Part 4: Visualising attention"
   ]
  },
  {
   "cell_type": "markdown",
   "metadata": {
    "id": "OCzHCB4XCutS"
   },
   "source": [
    "Figure&nbsp;3 in the paper by [Bahdanau et al. (2015)](https://arxiv.org/abs/1409.0473) shows some heatmaps of attention weights in selected sentences. In the last problem of this lab, we ask you to inspect attention weights for your trained translation system. We define a function `plot_attention` that visualises the attention weights. The *x*-axis corresponds to the words in the source sentence (Swedish) and the *y*-axis to the generated target sentence (English).\n",
    "\n",
    "The heatmap colours represent the **strengths of the attention weights**, with _lighter_ cells indicating a _higher_ attention value, just as in the Bahdanau et al. paper."
   ]
  },
  {
   "cell_type": "code",
   "execution_count": 40,
   "metadata": {
    "id": "IXHPiuamCutS"
   },
   "outputs": [],
   "source": [
    "import matplotlib.pyplot as plt\n",
    "import numpy as np\n",
    "\n",
    "%config InlineBackend.figure_format = 'svg'\n",
    "\n",
    "# plt.style.use('seaborn-v0_8-whitegrid')\n",
    "\n",
    "def plot_attention(translator, sentence):\n",
    "    translation, weights = translator.translate_with_attention([sentence])[0]\n",
    "    weights = np.array(weights)\n",
    "\n",
    "    fig, ax = plt.subplots()\n",
    "    heatmap = ax.pcolor(weights, cmap='Blues_r', vmin=0., vmax=1.)\n",
    "\n",
    "    ax.xaxis.tick_top()\n",
    "    ax.set_xticks(np.arange(weights.shape[1]) + 0.5, minor=False)\n",
    "    ax.set_yticks(np.arange(weights.shape[0]) + 0.5, minor=False)\n",
    "    ax.set_xticklabels(sentence.split(), minor=False, rotation=40)\n",
    "    ax.set_yticklabels(translation.split(), minor=False)\n",
    "    ax.invert_yaxis()\n",
    "\n",
    "    plt.colorbar(heatmap)"
   ]
  },
  {
   "cell_type": "code",
   "execution_count": 41,
   "metadata": {},
   "outputs": [
    {
     "data": {
      "image/svg+xml": "<?xml version=\"1.0\" encoding=\"utf-8\" standalone=\"no\"?>\n<!DOCTYPE svg PUBLIC \"-//W3C//DTD SVG 1.1//EN\"\n  \"http://www.w3.org/Graphics/SVG/1.1/DTD/svg11.dtd\">\n<!-- Created with matplotlib (https://matplotlib.org/) -->\n<svg height=\"252.317344pt\" version=\"1.1\" viewBox=\"0 0 380.054687 252.317344\" width=\"380.054687pt\" xmlns=\"http://www.w3.org/2000/svg\" xmlns:xlink=\"http://www.w3.org/1999/xlink\">\n <defs>\n  <style type=\"text/css\">\n*{stroke-linecap:butt;stroke-linejoin:round;}\n  </style>\n </defs>\n <g id=\"figure_1\">\n  <g id=\"patch_1\">\n   <path d=\"M 0 252.317344 \nL 380.054687 252.317344 \nL 380.054687 0 \nL 0 0 \nz\n\" style=\"fill:none;\"/>\n  </g>\n  <g id=\"axes_1\">\n   <g id=\"patch_2\">\n    <path d=\"M 30.103125 228.439219 \nL 364.903125 228.439219 \nL 364.903125 10.999219 \nL 30.103125 10.999219 \nz\n\" style=\"fill:#ffffff;\"/>\n   </g>\n   <g id=\"matplotlib.axis_1\">\n    <g id=\"xtick_1\">\n     <g id=\"line2d_1\">\n      <defs>\n       <path d=\"M 0 0 \nL 0 3.5 \n\" id=\"m8d5960e54c\" style=\"stroke:#000000;stroke-width:0.8;\"/>\n      </defs>\n      <g>\n       <use style=\"stroke:#000000;stroke-width:0.8;\" x=\"30.103125\" xlink:href=\"#m8d5960e54c\" y=\"228.439219\"/>\n      </g>\n     </g>\n     <g id=\"text_1\">\n      <!-- 0.0 -->\n      <defs>\n       <path d=\"M 31.78125 66.40625 \nQ 24.171875 66.40625 20.328125 58.90625 \nQ 16.5 51.421875 16.5 36.375 \nQ 16.5 21.390625 20.328125 13.890625 \nQ 24.171875 6.390625 31.78125 6.390625 \nQ 39.453125 6.390625 43.28125 13.890625 \nQ 47.125 21.390625 47.125 36.375 \nQ 47.125 51.421875 43.28125 58.90625 \nQ 39.453125 66.40625 31.78125 66.40625 \nz\nM 31.78125 74.21875 \nQ 44.046875 74.21875 50.515625 64.515625 \nQ 56.984375 54.828125 56.984375 36.375 \nQ 56.984375 17.96875 50.515625 8.265625 \nQ 44.046875 -1.421875 31.78125 -1.421875 \nQ 19.53125 -1.421875 13.0625 8.265625 \nQ 6.59375 17.96875 6.59375 36.375 \nQ 6.59375 54.828125 13.0625 64.515625 \nQ 19.53125 74.21875 31.78125 74.21875 \nz\n\" id=\"DejaVuSans-48\"/>\n       <path d=\"M 10.6875 12.40625 \nL 21 12.40625 \nL 21 0 \nL 10.6875 0 \nz\n\" id=\"DejaVuSans-46\"/>\n      </defs>\n      <g transform=\"translate(22.151563 243.037656)scale(0.1 -0.1)\">\n       <use xlink:href=\"#DejaVuSans-48\"/>\n       <use x=\"63.623047\" xlink:href=\"#DejaVuSans-46\"/>\n       <use x=\"95.410156\" xlink:href=\"#DejaVuSans-48\"/>\n      </g>\n     </g>\n    </g>\n    <g id=\"xtick_2\">\n     <g id=\"line2d_2\">\n      <g>\n       <use style=\"stroke:#000000;stroke-width:0.8;\" x=\"97.063125\" xlink:href=\"#m8d5960e54c\" y=\"228.439219\"/>\n      </g>\n     </g>\n     <g id=\"text_2\">\n      <!-- 0.2 -->\n      <defs>\n       <path d=\"M 19.1875 8.296875 \nL 53.609375 8.296875 \nL 53.609375 0 \nL 7.328125 0 \nL 7.328125 8.296875 \nQ 12.9375 14.109375 22.625 23.890625 \nQ 32.328125 33.6875 34.8125 36.53125 \nQ 39.546875 41.84375 41.421875 45.53125 \nQ 43.3125 49.21875 43.3125 52.78125 \nQ 43.3125 58.59375 39.234375 62.25 \nQ 35.15625 65.921875 28.609375 65.921875 \nQ 23.96875 65.921875 18.8125 64.3125 \nQ 13.671875 62.703125 7.8125 59.421875 \nL 7.8125 69.390625 \nQ 13.765625 71.78125 18.9375 73 \nQ 24.125 74.21875 28.421875 74.21875 \nQ 39.75 74.21875 46.484375 68.546875 \nQ 53.21875 62.890625 53.21875 53.421875 \nQ 53.21875 48.921875 51.53125 44.890625 \nQ 49.859375 40.875 45.40625 35.40625 \nQ 44.1875 33.984375 37.640625 27.21875 \nQ 31.109375 20.453125 19.1875 8.296875 \nz\n\" id=\"DejaVuSans-50\"/>\n      </defs>\n      <g transform=\"translate(89.111563 243.037656)scale(0.1 -0.1)\">\n       <use xlink:href=\"#DejaVuSans-48\"/>\n       <use x=\"63.623047\" xlink:href=\"#DejaVuSans-46\"/>\n       <use x=\"95.410156\" xlink:href=\"#DejaVuSans-50\"/>\n      </g>\n     </g>\n    </g>\n    <g id=\"xtick_3\">\n     <g id=\"line2d_3\">\n      <g>\n       <use style=\"stroke:#000000;stroke-width:0.8;\" x=\"164.023125\" xlink:href=\"#m8d5960e54c\" y=\"228.439219\"/>\n      </g>\n     </g>\n     <g id=\"text_3\">\n      <!-- 0.4 -->\n      <defs>\n       <path d=\"M 37.796875 64.3125 \nL 12.890625 25.390625 \nL 37.796875 25.390625 \nz\nM 35.203125 72.90625 \nL 47.609375 72.90625 \nL 47.609375 25.390625 \nL 58.015625 25.390625 \nL 58.015625 17.1875 \nL 47.609375 17.1875 \nL 47.609375 0 \nL 37.796875 0 \nL 37.796875 17.1875 \nL 4.890625 17.1875 \nL 4.890625 26.703125 \nz\n\" id=\"DejaVuSans-52\"/>\n      </defs>\n      <g transform=\"translate(156.071563 243.037656)scale(0.1 -0.1)\">\n       <use xlink:href=\"#DejaVuSans-48\"/>\n       <use x=\"63.623047\" xlink:href=\"#DejaVuSans-46\"/>\n       <use x=\"95.410156\" xlink:href=\"#DejaVuSans-52\"/>\n      </g>\n     </g>\n    </g>\n    <g id=\"xtick_4\">\n     <g id=\"line2d_4\">\n      <g>\n       <use style=\"stroke:#000000;stroke-width:0.8;\" x=\"230.983125\" xlink:href=\"#m8d5960e54c\" y=\"228.439219\"/>\n      </g>\n     </g>\n     <g id=\"text_4\">\n      <!-- 0.6 -->\n      <defs>\n       <path d=\"M 33.015625 40.375 \nQ 26.375 40.375 22.484375 35.828125 \nQ 18.609375 31.296875 18.609375 23.390625 \nQ 18.609375 15.53125 22.484375 10.953125 \nQ 26.375 6.390625 33.015625 6.390625 \nQ 39.65625 6.390625 43.53125 10.953125 \nQ 47.40625 15.53125 47.40625 23.390625 \nQ 47.40625 31.296875 43.53125 35.828125 \nQ 39.65625 40.375 33.015625 40.375 \nz\nM 52.59375 71.296875 \nL 52.59375 62.3125 \nQ 48.875 64.0625 45.09375 64.984375 \nQ 41.3125 65.921875 37.59375 65.921875 \nQ 27.828125 65.921875 22.671875 59.328125 \nQ 17.53125 52.734375 16.796875 39.40625 \nQ 19.671875 43.65625 24.015625 45.921875 \nQ 28.375 48.1875 33.59375 48.1875 \nQ 44.578125 48.1875 50.953125 41.515625 \nQ 57.328125 34.859375 57.328125 23.390625 \nQ 57.328125 12.15625 50.6875 5.359375 \nQ 44.046875 -1.421875 33.015625 -1.421875 \nQ 20.359375 -1.421875 13.671875 8.265625 \nQ 6.984375 17.96875 6.984375 36.375 \nQ 6.984375 53.65625 15.1875 63.9375 \nQ 23.390625 74.21875 37.203125 74.21875 \nQ 40.921875 74.21875 44.703125 73.484375 \nQ 48.484375 72.75 52.59375 71.296875 \nz\n\" id=\"DejaVuSans-54\"/>\n      </defs>\n      <g transform=\"translate(223.031563 243.037656)scale(0.1 -0.1)\">\n       <use xlink:href=\"#DejaVuSans-48\"/>\n       <use x=\"63.623047\" xlink:href=\"#DejaVuSans-46\"/>\n       <use x=\"95.410156\" xlink:href=\"#DejaVuSans-54\"/>\n      </g>\n     </g>\n    </g>\n    <g id=\"xtick_5\">\n     <g id=\"line2d_5\">\n      <g>\n       <use style=\"stroke:#000000;stroke-width:0.8;\" x=\"297.943125\" xlink:href=\"#m8d5960e54c\" y=\"228.439219\"/>\n      </g>\n     </g>\n     <g id=\"text_5\">\n      <!-- 0.8 -->\n      <defs>\n       <path d=\"M 31.78125 34.625 \nQ 24.75 34.625 20.71875 30.859375 \nQ 16.703125 27.09375 16.703125 20.515625 \nQ 16.703125 13.921875 20.71875 10.15625 \nQ 24.75 6.390625 31.78125 6.390625 \nQ 38.8125 6.390625 42.859375 10.171875 \nQ 46.921875 13.96875 46.921875 20.515625 \nQ 46.921875 27.09375 42.890625 30.859375 \nQ 38.875 34.625 31.78125 34.625 \nz\nM 21.921875 38.8125 \nQ 15.578125 40.375 12.03125 44.71875 \nQ 8.5 49.078125 8.5 55.328125 \nQ 8.5 64.0625 14.71875 69.140625 \nQ 20.953125 74.21875 31.78125 74.21875 \nQ 42.671875 74.21875 48.875 69.140625 \nQ 55.078125 64.0625 55.078125 55.328125 \nQ 55.078125 49.078125 51.53125 44.71875 \nQ 48 40.375 41.703125 38.8125 \nQ 48.828125 37.15625 52.796875 32.3125 \nQ 56.78125 27.484375 56.78125 20.515625 \nQ 56.78125 9.90625 50.3125 4.234375 \nQ 43.84375 -1.421875 31.78125 -1.421875 \nQ 19.734375 -1.421875 13.25 4.234375 \nQ 6.78125 9.90625 6.78125 20.515625 \nQ 6.78125 27.484375 10.78125 32.3125 \nQ 14.796875 37.15625 21.921875 38.8125 \nz\nM 18.3125 54.390625 \nQ 18.3125 48.734375 21.84375 45.5625 \nQ 25.390625 42.390625 31.78125 42.390625 \nQ 38.140625 42.390625 41.71875 45.5625 \nQ 45.3125 48.734375 45.3125 54.390625 \nQ 45.3125 60.0625 41.71875 63.234375 \nQ 38.140625 66.40625 31.78125 66.40625 \nQ 25.390625 66.40625 21.84375 63.234375 \nQ 18.3125 60.0625 18.3125 54.390625 \nz\n\" id=\"DejaVuSans-56\"/>\n      </defs>\n      <g transform=\"translate(289.991563 243.037656)scale(0.1 -0.1)\">\n       <use xlink:href=\"#DejaVuSans-48\"/>\n       <use x=\"63.623047\" xlink:href=\"#DejaVuSans-46\"/>\n       <use x=\"95.410156\" xlink:href=\"#DejaVuSans-56\"/>\n      </g>\n     </g>\n    </g>\n    <g id=\"xtick_6\">\n     <g id=\"line2d_6\">\n      <g>\n       <use style=\"stroke:#000000;stroke-width:0.8;\" x=\"364.903125\" xlink:href=\"#m8d5960e54c\" y=\"228.439219\"/>\n      </g>\n     </g>\n     <g id=\"text_6\">\n      <!-- 1.0 -->\n      <defs>\n       <path d=\"M 12.40625 8.296875 \nL 28.515625 8.296875 \nL 28.515625 63.921875 \nL 10.984375 60.40625 \nL 10.984375 69.390625 \nL 28.421875 72.90625 \nL 38.28125 72.90625 \nL 38.28125 8.296875 \nL 54.390625 8.296875 \nL 54.390625 0 \nL 12.40625 0 \nz\n\" id=\"DejaVuSans-49\"/>\n      </defs>\n      <g transform=\"translate(356.951563 243.037656)scale(0.1 -0.1)\">\n       <use xlink:href=\"#DejaVuSans-49\"/>\n       <use x=\"63.623047\" xlink:href=\"#DejaVuSans-46\"/>\n       <use x=\"95.410156\" xlink:href=\"#DejaVuSans-48\"/>\n      </g>\n     </g>\n    </g>\n   </g>\n   <g id=\"matplotlib.axis_2\">\n    <g id=\"ytick_1\">\n     <g id=\"line2d_7\">\n      <defs>\n       <path d=\"M 0 0 \nL -3.5 0 \n\" id=\"m0d834ac8e5\" style=\"stroke:#000000;stroke-width:0.8;\"/>\n      </defs>\n      <g>\n       <use style=\"stroke:#000000;stroke-width:0.8;\" x=\"30.103125\" xlink:href=\"#m0d834ac8e5\" y=\"228.439219\"/>\n      </g>\n     </g>\n     <g id=\"text_7\">\n      <!-- 0.0 -->\n      <g transform=\"translate(7.2 232.238437)scale(0.1 -0.1)\">\n       <use xlink:href=\"#DejaVuSans-48\"/>\n       <use x=\"63.623047\" xlink:href=\"#DejaVuSans-46\"/>\n       <use x=\"95.410156\" xlink:href=\"#DejaVuSans-48\"/>\n      </g>\n     </g>\n    </g>\n    <g id=\"ytick_2\">\n     <g id=\"line2d_8\">\n      <g>\n       <use style=\"stroke:#000000;stroke-width:0.8;\" x=\"30.103125\" xlink:href=\"#m0d834ac8e5\" y=\"184.951219\"/>\n      </g>\n     </g>\n     <g id=\"text_8\">\n      <!-- 0.2 -->\n      <g transform=\"translate(7.2 188.750437)scale(0.1 -0.1)\">\n       <use xlink:href=\"#DejaVuSans-48\"/>\n       <use x=\"63.623047\" xlink:href=\"#DejaVuSans-46\"/>\n       <use x=\"95.410156\" xlink:href=\"#DejaVuSans-50\"/>\n      </g>\n     </g>\n    </g>\n    <g id=\"ytick_3\">\n     <g id=\"line2d_9\">\n      <g>\n       <use style=\"stroke:#000000;stroke-width:0.8;\" x=\"30.103125\" xlink:href=\"#m0d834ac8e5\" y=\"141.463219\"/>\n      </g>\n     </g>\n     <g id=\"text_9\">\n      <!-- 0.4 -->\n      <g transform=\"translate(7.2 145.262437)scale(0.1 -0.1)\">\n       <use xlink:href=\"#DejaVuSans-48\"/>\n       <use x=\"63.623047\" xlink:href=\"#DejaVuSans-46\"/>\n       <use x=\"95.410156\" xlink:href=\"#DejaVuSans-52\"/>\n      </g>\n     </g>\n    </g>\n    <g id=\"ytick_4\">\n     <g id=\"line2d_10\">\n      <g>\n       <use style=\"stroke:#000000;stroke-width:0.8;\" x=\"30.103125\" xlink:href=\"#m0d834ac8e5\" y=\"97.975219\"/>\n      </g>\n     </g>\n     <g id=\"text_10\">\n      <!-- 0.6 -->\n      <g transform=\"translate(7.2 101.774437)scale(0.1 -0.1)\">\n       <use xlink:href=\"#DejaVuSans-48\"/>\n       <use x=\"63.623047\" xlink:href=\"#DejaVuSans-46\"/>\n       <use x=\"95.410156\" xlink:href=\"#DejaVuSans-54\"/>\n      </g>\n     </g>\n    </g>\n    <g id=\"ytick_5\">\n     <g id=\"line2d_11\">\n      <g>\n       <use style=\"stroke:#000000;stroke-width:0.8;\" x=\"30.103125\" xlink:href=\"#m0d834ac8e5\" y=\"54.487219\"/>\n      </g>\n     </g>\n     <g id=\"text_11\">\n      <!-- 0.8 -->\n      <g transform=\"translate(7.2 58.286437)scale(0.1 -0.1)\">\n       <use xlink:href=\"#DejaVuSans-48\"/>\n       <use x=\"63.623047\" xlink:href=\"#DejaVuSans-46\"/>\n       <use x=\"95.410156\" xlink:href=\"#DejaVuSans-56\"/>\n      </g>\n     </g>\n    </g>\n    <g id=\"ytick_6\">\n     <g id=\"line2d_12\">\n      <g>\n       <use style=\"stroke:#000000;stroke-width:0.8;\" x=\"30.103125\" xlink:href=\"#m0d834ac8e5\" y=\"10.999219\"/>\n      </g>\n     </g>\n     <g id=\"text_12\">\n      <!-- 1.0 -->\n      <g transform=\"translate(7.2 14.798437)scale(0.1 -0.1)\">\n       <use xlink:href=\"#DejaVuSans-49\"/>\n       <use x=\"63.623047\" xlink:href=\"#DejaVuSans-46\"/>\n       <use x=\"95.410156\" xlink:href=\"#DejaVuSans-48\"/>\n      </g>\n     </g>\n    </g>\n   </g>\n   <g id=\"patch_3\">\n    <path d=\"M 30.103125 228.439219 \nL 30.103125 10.999219 \n\" style=\"fill:none;stroke:#000000;stroke-linecap:square;stroke-linejoin:miter;stroke-width:0.8;\"/>\n   </g>\n   <g id=\"patch_4\">\n    <path d=\"M 364.903125 228.439219 \nL 364.903125 10.999219 \n\" style=\"fill:none;stroke:#000000;stroke-linecap:square;stroke-linejoin:miter;stroke-width:0.8;\"/>\n   </g>\n   <g id=\"patch_5\">\n    <path d=\"M 30.103125 228.439219 \nL 364.903125 228.439219 \n\" style=\"fill:none;stroke:#000000;stroke-linecap:square;stroke-linejoin:miter;stroke-width:0.8;\"/>\n   </g>\n   <g id=\"patch_6\">\n    <path d=\"M 30.103125 10.999219 \nL 364.903125 10.999219 \n\" style=\"fill:none;stroke:#000000;stroke-linecap:square;stroke-linejoin:miter;stroke-width:0.8;\"/>\n   </g>\n  </g>\n </g>\n</svg>\n",
      "text/plain": [
       "<Figure size 432x288 with 1 Axes>"
      ]
     },
     "metadata": {
      "needs_background": "light"
     },
     "output_type": "display_data"
    }
   ],
   "source": [
    "import matplotlib.pyplot as plt\n",
    "import numpy as np\n",
    "\n",
    "translator, sentence = translator, 'jag saknar min familj . '\n",
    "\n",
    "translation, weights = translator.translate_with_attention([sentence])[0]\n",
    "weights = np.array(weights)\n",
    "\n",
    "fig, ax = plt.subplots()\n",
    "# heatmap = ax.pcolor(weights, cmap='Blues_r', vmin=0., vmax=1.)\n",
    "\n",
    "# ax.xaxis.tick_top()\n",
    "# ax.set_xticks(np.arange(weights.shape[1]) + 0.5, minor=False)\n",
    "# ax.set_yticks(np.arange(weights.shape[0]) + 0.5, minor=False)\n",
    "# ax.set_xticklabels(sentence.split(), minor=False, rotation=40)\n",
    "# ax.set_yticklabels(translation.split(), minor=False)\n",
    "# ax.invert_yaxis()"
   ]
  },
  {
   "cell_type": "markdown",
   "metadata": {
    "id": "SGCwchIdCutS"
   },
   "source": [
    "Here is an example."
   ]
  },
  {
   "cell_type": "code",
   "execution_count": 42,
   "metadata": {
    "id": "Hj4teeITCutT"
   },
   "outputs": [
    {
     "data": {
      "image/svg+xml": "<?xml version=\"1.0\" encoding=\"utf-8\" standalone=\"no\"?>\n<!DOCTYPE svg PUBLIC \"-//W3C//DTD SVG 1.1//EN\"\n  \"http://www.w3.org/Graphics/SVG/1.1/DTD/svg11.dtd\">\n<!-- Created with matplotlib (https://matplotlib.org/) -->\n<svg height=\"273.797736pt\" version=\"1.1\" viewBox=\"0 0 370.619188 273.797736\" width=\"370.619188pt\" xmlns=\"http://www.w3.org/2000/svg\" xmlns:xlink=\"http://www.w3.org/1999/xlink\">\n <defs>\n  <style type=\"text/css\">\n*{stroke-linecap:butt;stroke-linejoin:round;}\n  </style>\n </defs>\n <g id=\"figure_1\">\n  <g id=\"patch_1\">\n   <path d=\"M 0 273.797736 \nL 370.619188 273.797736 \nL 370.619188 0 \nL 0 0 \nz\n\" style=\"fill:none;\"/>\n  </g>\n  <g id=\"axes_1\">\n   <g id=\"patch_2\">\n    <path d=\"M 45.064063 260.718829 \nL 312.904063 260.718829 \nL 312.904063 43.278829 \nL 45.064063 43.278829 \nz\n\" style=\"fill:#ffffff;\"/>\n   </g>\n   <g id=\"PolyCollection_1\">\n    <path clip-path=\"url(#p1c7c787259)\" d=\"M 45.064063 43.278829 \nL 45.064063 86.766829 \nL 98.632063 86.766829 \nL 98.632063 43.278829 \nL 45.064063 43.278829 \nz\n\" style=\"fill:#e7f0fa;\"/>\n    <path clip-path=\"url(#p1c7c787259)\" d=\"M 98.632063 43.278829 \nL 98.632063 86.766829 \nL 152.200063 86.766829 \nL 152.200063 43.278829 \nL 98.632063 43.278829 \nz\n\" style=\"fill:#08458a;\"/>\n    <path clip-path=\"url(#p1c7c787259)\" d=\"M 152.200063 43.278829 \nL 152.200063 86.766829 \nL 205.768063 86.766829 \nL 205.768063 43.278829 \nL 152.200063 43.278829 \nz\n\" style=\"fill:#08306b;\"/>\n    <path clip-path=\"url(#p1c7c787259)\" d=\"M 205.768063 43.278829 \nL 205.768063 86.766829 \nL 259.336063 86.766829 \nL 259.336063 43.278829 \nL 205.768063 43.278829 \nz\n\" style=\"fill:#08306b;\"/>\n    <path clip-path=\"url(#p1c7c787259)\" d=\"M 259.336063 43.278829 \nL 259.336063 86.766829 \nL 312.904063 86.766829 \nL 312.904063 43.278829 \nL 259.336063 43.278829 \nz\n\" style=\"fill:#08306b;\"/>\n    <path clip-path=\"url(#p1c7c787259)\" d=\"M 45.064063 86.766829 \nL 45.064063 130.254829 \nL 98.632063 130.254829 \nL 98.632063 86.766829 \nL 45.064063 86.766829 \nz\n\" style=\"fill:#08316d;\"/>\n    <path clip-path=\"url(#p1c7c787259)\" d=\"M 98.632063 86.766829 \nL 98.632063 130.254829 \nL 152.200063 130.254829 \nL 152.200063 86.766829 \nL 98.632063 86.766829 \nz\n\" style=\"fill:#dceaf6;\"/>\n    <path clip-path=\"url(#p1c7c787259)\" d=\"M 152.200063 86.766829 \nL 152.200063 130.254829 \nL 205.768063 130.254829 \nL 205.768063 86.766829 \nL 152.200063 86.766829 \nz\n\" style=\"fill:#08509b;\"/>\n    <path clip-path=\"url(#p1c7c787259)\" d=\"M 205.768063 86.766829 \nL 205.768063 130.254829 \nL 259.336063 130.254829 \nL 259.336063 86.766829 \nL 205.768063 86.766829 \nz\n\" style=\"fill:#08316d;\"/>\n    <path clip-path=\"url(#p1c7c787259)\" d=\"M 259.336063 86.766829 \nL 259.336063 130.254829 \nL 312.904063 130.254829 \nL 312.904063 86.766829 \nL 259.336063 86.766829 \nz\n\" style=\"fill:#08306b;\"/>\n    <path clip-path=\"url(#p1c7c787259)\" d=\"M 45.064063 130.254829 \nL 45.064063 173.742829 \nL 98.632063 173.742829 \nL 98.632063 130.254829 \nL 45.064063 130.254829 \nz\n\" style=\"fill:#08306b;\"/>\n    <path clip-path=\"url(#p1c7c787259)\" d=\"M 98.632063 130.254829 \nL 98.632063 173.742829 \nL 152.200063 173.742829 \nL 152.200063 130.254829 \nL 98.632063 130.254829 \nz\n\" style=\"fill:#083776;\"/>\n    <path clip-path=\"url(#p1c7c787259)\" d=\"M 152.200063 130.254829 \nL 152.200063 173.742829 \nL 205.768063 173.742829 \nL 205.768063 130.254829 \nL 152.200063 130.254829 \nz\n\" style=\"fill:#4e9acb;\"/>\n    <path clip-path=\"url(#p1c7c787259)\" d=\"M 205.768063 130.254829 \nL 205.768063 173.742829 \nL 259.336063 173.742829 \nL 259.336063 130.254829 \nL 205.768063 130.254829 \nz\n\" style=\"fill:#81badb;\"/>\n    <path clip-path=\"url(#p1c7c787259)\" d=\"M 259.336063 130.254829 \nL 259.336063 173.742829 \nL 312.904063 173.742829 \nL 312.904063 130.254829 \nL 259.336063 130.254829 \nz\n\" style=\"fill:#08306b;\"/>\n    <path clip-path=\"url(#p1c7c787259)\" d=\"M 45.064063 173.742829 \nL 45.064063 217.230829 \nL 98.632063 217.230829 \nL 98.632063 173.742829 \nL 45.064063 173.742829 \nz\n\" style=\"fill:#08306b;\"/>\n    <path clip-path=\"url(#p1c7c787259)\" d=\"M 98.632063 173.742829 \nL 98.632063 217.230829 \nL 152.200063 217.230829 \nL 152.200063 173.742829 \nL 98.632063 173.742829 \nz\n\" style=\"fill:#083370;\"/>\n    <path clip-path=\"url(#p1c7c787259)\" d=\"M 152.200063 173.742829 \nL 152.200063 217.230829 \nL 205.768063 217.230829 \nL 205.768063 173.742829 \nL 152.200063 173.742829 \nz\n\" style=\"fill:#08326e;\"/>\n    <path clip-path=\"url(#p1c7c787259)\" d=\"M 205.768063 173.742829 \nL 205.768063 217.230829 \nL 259.336063 217.230829 \nL 259.336063 173.742829 \nL 205.768063 173.742829 \nz\n\" style=\"fill:#ecf4fb;\"/>\n    <path clip-path=\"url(#p1c7c787259)\" d=\"M 259.336063 173.742829 \nL 259.336063 217.230829 \nL 312.904063 217.230829 \nL 312.904063 173.742829 \nL 259.336063 173.742829 \nz\n\" style=\"fill:#083877;\"/>\n    <path clip-path=\"url(#p1c7c787259)\" d=\"M 45.064063 217.230829 \nL 45.064063 260.718829 \nL 98.632063 260.718829 \nL 98.632063 217.230829 \nL 45.064063 217.230829 \nz\n\" style=\"fill:#08458a;\"/>\n    <path clip-path=\"url(#p1c7c787259)\" d=\"M 98.632063 217.230829 \nL 98.632063 260.718829 \nL 152.200063 260.718829 \nL 152.200063 217.230829 \nL 98.632063 217.230829 \nz\n\" style=\"fill:#3383be;\"/>\n    <path clip-path=\"url(#p1c7c787259)\" d=\"M 152.200063 217.230829 \nL 152.200063 260.718829 \nL 205.768063 260.718829 \nL 205.768063 217.230829 \nL 152.200063 217.230829 \nz\n\" style=\"fill:#08468b;\"/>\n    <path clip-path=\"url(#p1c7c787259)\" d=\"M 205.768063 217.230829 \nL 205.768063 260.718829 \nL 259.336063 260.718829 \nL 259.336063 217.230829 \nL 205.768063 217.230829 \nz\n\" style=\"fill:#2d7dbb;\"/>\n    <path clip-path=\"url(#p1c7c787259)\" d=\"M 259.336063 217.230829 \nL 259.336063 260.718829 \nL 312.904063 260.718829 \nL 312.904063 217.230829 \nL 259.336063 217.230829 \nz\n\" style=\"fill:#1c6ab0;\"/>\n   </g>\n   <g id=\"matplotlib.axis_1\">\n    <g id=\"xtick_1\">\n     <g id=\"line2d_1\">\n      <defs>\n       <path d=\"M 0 0 \nL 0 -3.5 \n\" id=\"meb884e20ec\" style=\"stroke:#000000;stroke-width:0.8;\"/>\n      </defs>\n      <g>\n       <use style=\"stroke:#000000;stroke-width:0.8;\" x=\"71.848063\" xlink:href=\"#meb884e20ec\" y=\"43.278829\"/>\n      </g>\n     </g>\n     <g id=\"text_1\">\n      <!-- jag -->\n      <defs>\n       <path d=\"M 9.421875 54.6875 \nL 18.40625 54.6875 \nL 18.40625 -0.984375 \nQ 18.40625 -11.421875 14.421875 -16.109375 \nQ 10.453125 -20.796875 1.609375 -20.796875 \nL -1.8125 -20.796875 \nL -1.8125 -13.1875 \nL 0.59375 -13.1875 \nQ 5.71875 -13.1875 7.5625 -10.8125 \nQ 9.421875 -8.453125 9.421875 -0.984375 \nz\nM 9.421875 75.984375 \nL 18.40625 75.984375 \nL 18.40625 64.59375 \nL 9.421875 64.59375 \nz\n\" id=\"DejaVuSans-106\"/>\n       <path d=\"M 34.28125 27.484375 \nQ 23.390625 27.484375 19.1875 25 \nQ 14.984375 22.515625 14.984375 16.5 \nQ 14.984375 11.71875 18.140625 8.90625 \nQ 21.296875 6.109375 26.703125 6.109375 \nQ 34.1875 6.109375 38.703125 11.40625 \nQ 43.21875 16.703125 43.21875 25.484375 \nL 43.21875 27.484375 \nz\nM 52.203125 31.203125 \nL 52.203125 0 \nL 43.21875 0 \nL 43.21875 8.296875 \nQ 40.140625 3.328125 35.546875 0.953125 \nQ 30.953125 -1.421875 24.3125 -1.421875 \nQ 15.921875 -1.421875 10.953125 3.296875 \nQ 6 8.015625 6 15.921875 \nQ 6 25.140625 12.171875 29.828125 \nQ 18.359375 34.515625 30.609375 34.515625 \nL 43.21875 34.515625 \nL 43.21875 35.40625 \nQ 43.21875 41.609375 39.140625 45 \nQ 35.0625 48.390625 27.6875 48.390625 \nQ 23 48.390625 18.546875 47.265625 \nQ 14.109375 46.140625 10.015625 43.890625 \nL 10.015625 52.203125 \nQ 14.9375 54.109375 19.578125 55.046875 \nQ 24.21875 56 28.609375 56 \nQ 40.484375 56 46.34375 49.84375 \nQ 52.203125 43.703125 52.203125 31.203125 \nz\n\" id=\"DejaVuSans-97\"/>\n       <path d=\"M 45.40625 27.984375 \nQ 45.40625 37.75 41.375 43.109375 \nQ 37.359375 48.484375 30.078125 48.484375 \nQ 22.859375 48.484375 18.828125 43.109375 \nQ 14.796875 37.75 14.796875 27.984375 \nQ 14.796875 18.265625 18.828125 12.890625 \nQ 22.859375 7.515625 30.078125 7.515625 \nQ 37.359375 7.515625 41.375 12.890625 \nQ 45.40625 18.265625 45.40625 27.984375 \nz\nM 54.390625 6.78125 \nQ 54.390625 -7.171875 48.1875 -13.984375 \nQ 42 -20.796875 29.203125 -20.796875 \nQ 24.46875 -20.796875 20.265625 -20.09375 \nQ 16.0625 -19.390625 12.109375 -17.921875 \nL 12.109375 -9.1875 \nQ 16.0625 -11.328125 19.921875 -12.34375 \nQ 23.78125 -13.375 27.78125 -13.375 \nQ 36.625 -13.375 41.015625 -8.765625 \nQ 45.40625 -4.15625 45.40625 5.171875 \nL 45.40625 9.625 \nQ 42.625 4.78125 38.28125 2.390625 \nQ 33.9375 0 27.875 0 \nQ 17.828125 0 11.671875 7.65625 \nQ 5.515625 15.328125 5.515625 27.984375 \nQ 5.515625 40.671875 11.671875 48.328125 \nQ 17.828125 56 27.875 56 \nQ 33.9375 56 38.28125 53.609375 \nQ 42.625 51.21875 45.40625 46.390625 \nL 45.40625 54.6875 \nL 54.390625 54.6875 \nz\n\" id=\"DejaVuSans-103\"/>\n      </defs>\n      <g transform=\"translate(67.77887 34.685696)rotate(-40)scale(0.1 -0.1)\">\n       <use xlink:href=\"#DejaVuSans-106\"/>\n       <use x=\"27.783203\" xlink:href=\"#DejaVuSans-97\"/>\n       <use x=\"89.0625\" xlink:href=\"#DejaVuSans-103\"/>\n      </g>\n     </g>\n    </g>\n    <g id=\"xtick_2\">\n     <g id=\"line2d_2\">\n      <g>\n       <use style=\"stroke:#000000;stroke-width:0.8;\" x=\"125.416063\" xlink:href=\"#meb884e20ec\" y=\"43.278829\"/>\n      </g>\n     </g>\n     <g id=\"text_2\">\n      <!-- saknar -->\n      <defs>\n       <path d=\"M 44.28125 53.078125 \nL 44.28125 44.578125 \nQ 40.484375 46.53125 36.375 47.5 \nQ 32.28125 48.484375 27.875 48.484375 \nQ 21.1875 48.484375 17.84375 46.4375 \nQ 14.5 44.390625 14.5 40.28125 \nQ 14.5 37.15625 16.890625 35.375 \nQ 19.28125 33.59375 26.515625 31.984375 \nL 29.59375 31.296875 \nQ 39.15625 29.25 43.1875 25.515625 \nQ 47.21875 21.78125 47.21875 15.09375 \nQ 47.21875 7.46875 41.1875 3.015625 \nQ 35.15625 -1.421875 24.609375 -1.421875 \nQ 20.21875 -1.421875 15.453125 -0.5625 \nQ 10.6875 0.296875 5.421875 2 \nL 5.421875 11.28125 \nQ 10.40625 8.6875 15.234375 7.390625 \nQ 20.0625 6.109375 24.8125 6.109375 \nQ 31.15625 6.109375 34.5625 8.28125 \nQ 37.984375 10.453125 37.984375 14.40625 \nQ 37.984375 18.0625 35.515625 20.015625 \nQ 33.0625 21.96875 24.703125 23.78125 \nL 21.578125 24.515625 \nQ 13.234375 26.265625 9.515625 29.90625 \nQ 5.8125 33.546875 5.8125 39.890625 \nQ 5.8125 47.609375 11.28125 51.796875 \nQ 16.75 56 26.8125 56 \nQ 31.78125 56 36.171875 55.265625 \nQ 40.578125 54.546875 44.28125 53.078125 \nz\n\" id=\"DejaVuSans-115\"/>\n       <path d=\"M 9.078125 75.984375 \nL 18.109375 75.984375 \nL 18.109375 31.109375 \nL 44.921875 54.6875 \nL 56.390625 54.6875 \nL 27.390625 29.109375 \nL 57.625 0 \nL 45.90625 0 \nL 18.109375 26.703125 \nL 18.109375 0 \nL 9.078125 0 \nz\n\" id=\"DejaVuSans-107\"/>\n       <path d=\"M 54.890625 33.015625 \nL 54.890625 0 \nL 45.90625 0 \nL 45.90625 32.71875 \nQ 45.90625 40.484375 42.875 44.328125 \nQ 39.84375 48.1875 33.796875 48.1875 \nQ 26.515625 48.1875 22.3125 43.546875 \nQ 18.109375 38.921875 18.109375 30.90625 \nL 18.109375 0 \nL 9.078125 0 \nL 9.078125 54.6875 \nL 18.109375 54.6875 \nL 18.109375 46.1875 \nQ 21.34375 51.125 25.703125 53.5625 \nQ 30.078125 56 35.796875 56 \nQ 45.21875 56 50.046875 50.171875 \nQ 54.890625 44.34375 54.890625 33.015625 \nz\n\" id=\"DejaVuSans-110\"/>\n       <path d=\"M 41.109375 46.296875 \nQ 39.59375 47.171875 37.8125 47.578125 \nQ 36.03125 48 33.890625 48 \nQ 26.265625 48 22.1875 43.046875 \nQ 18.109375 38.09375 18.109375 28.8125 \nL 18.109375 0 \nL 9.078125 0 \nL 9.078125 54.6875 \nL 18.109375 54.6875 \nL 18.109375 46.1875 \nQ 20.953125 51.171875 25.484375 53.578125 \nQ 30.03125 56 36.53125 56 \nQ 37.453125 56 38.578125 55.875 \nQ 39.703125 55.765625 41.0625 55.515625 \nz\n\" id=\"DejaVuSans-114\"/>\n      </defs>\n      <g transform=\"translate(114.28011 34.685696)rotate(-40)scale(0.1 -0.1)\">\n       <use xlink:href=\"#DejaVuSans-115\"/>\n       <use x=\"52.099609\" xlink:href=\"#DejaVuSans-97\"/>\n       <use x=\"113.378906\" xlink:href=\"#DejaVuSans-107\"/>\n       <use x=\"171.289062\" xlink:href=\"#DejaVuSans-110\"/>\n       <use x=\"234.667969\" xlink:href=\"#DejaVuSans-97\"/>\n       <use x=\"295.947266\" xlink:href=\"#DejaVuSans-114\"/>\n      </g>\n     </g>\n    </g>\n    <g id=\"xtick_3\">\n     <g id=\"line2d_3\">\n      <g>\n       <use style=\"stroke:#000000;stroke-width:0.8;\" x=\"178.984063\" xlink:href=\"#meb884e20ec\" y=\"43.278829\"/>\n      </g>\n     </g>\n     <g id=\"text_3\">\n      <!-- min -->\n      <defs>\n       <path d=\"M 52 44.1875 \nQ 55.375 50.25 60.0625 53.125 \nQ 64.75 56 71.09375 56 \nQ 79.640625 56 84.28125 50.015625 \nQ 88.921875 44.046875 88.921875 33.015625 \nL 88.921875 0 \nL 79.890625 0 \nL 79.890625 32.71875 \nQ 79.890625 40.578125 77.09375 44.375 \nQ 74.3125 48.1875 68.609375 48.1875 \nQ 61.625 48.1875 57.5625 43.546875 \nQ 53.515625 38.921875 53.515625 30.90625 \nL 53.515625 0 \nL 44.484375 0 \nL 44.484375 32.71875 \nQ 44.484375 40.625 41.703125 44.40625 \nQ 38.921875 48.1875 33.109375 48.1875 \nQ 26.21875 48.1875 22.15625 43.53125 \nQ 18.109375 38.875 18.109375 30.90625 \nL 18.109375 0 \nL 9.078125 0 \nL 9.078125 54.6875 \nL 18.109375 54.6875 \nL 18.109375 46.1875 \nQ 21.1875 51.21875 25.484375 53.609375 \nQ 29.78125 56 35.6875 56 \nQ 41.65625 56 45.828125 52.96875 \nQ 50 49.953125 52 44.1875 \nz\n\" id=\"DejaVuSans-109\"/>\n       <path d=\"M 9.421875 54.6875 \nL 18.40625 54.6875 \nL 18.40625 0 \nL 9.421875 0 \nz\nM 9.421875 75.984375 \nL 18.40625 75.984375 \nL 18.40625 64.59375 \nL 9.421875 64.59375 \nz\n\" id=\"DejaVuSans-105\"/>\n      </defs>\n      <g transform=\"translate(173.535392 34.685696)rotate(-40)scale(0.1 -0.1)\">\n       <use xlink:href=\"#DejaVuSans-109\"/>\n       <use x=\"97.412109\" xlink:href=\"#DejaVuSans-105\"/>\n       <use x=\"125.195312\" xlink:href=\"#DejaVuSans-110\"/>\n      </g>\n     </g>\n    </g>\n    <g id=\"xtick_4\">\n     <g id=\"line2d_4\">\n      <g>\n       <use style=\"stroke:#000000;stroke-width:0.8;\" x=\"232.552063\" xlink:href=\"#meb884e20ec\" y=\"43.278829\"/>\n      </g>\n     </g>\n     <g id=\"text_4\">\n      <!-- familj -->\n      <defs>\n       <path d=\"M 37.109375 75.984375 \nL 37.109375 68.5 \nL 28.515625 68.5 \nQ 23.6875 68.5 21.796875 66.546875 \nQ 19.921875 64.59375 19.921875 59.515625 \nL 19.921875 54.6875 \nL 34.71875 54.6875 \nL 34.71875 47.703125 \nL 19.921875 47.703125 \nL 19.921875 0 \nL 10.890625 0 \nL 10.890625 47.703125 \nL 2.296875 47.703125 \nL 2.296875 54.6875 \nL 10.890625 54.6875 \nL 10.890625 58.5 \nQ 10.890625 67.625 15.140625 71.796875 \nQ 19.390625 75.984375 28.609375 75.984375 \nz\n\" id=\"DejaVuSans-102\"/>\n       <path d=\"M 9.421875 75.984375 \nL 18.40625 75.984375 \nL 18.40625 0 \nL 9.421875 0 \nz\n\" id=\"DejaVuSans-108\"/>\n      </defs>\n      <g transform=\"translate(223.707062 34.685696)rotate(-40)scale(0.1 -0.1)\">\n       <use xlink:href=\"#DejaVuSans-102\"/>\n       <use x=\"35.205078\" xlink:href=\"#DejaVuSans-97\"/>\n       <use x=\"96.484375\" xlink:href=\"#DejaVuSans-109\"/>\n       <use x=\"193.896484\" xlink:href=\"#DejaVuSans-105\"/>\n       <use x=\"221.679688\" xlink:href=\"#DejaVuSans-108\"/>\n       <use x=\"249.462891\" xlink:href=\"#DejaVuSans-106\"/>\n      </g>\n     </g>\n    </g>\n    <g id=\"xtick_5\">\n     <g id=\"line2d_5\">\n      <g>\n       <use style=\"stroke:#000000;stroke-width:0.8;\" x=\"286.120063\" xlink:href=\"#meb884e20ec\" y=\"43.278829\"/>\n      </g>\n     </g>\n     <g id=\"text_5\">\n      <!-- . -->\n      <defs>\n       <path d=\"M 10.6875 12.40625 \nL 21 12.40625 \nL 21 0 \nL 10.6875 0 \nz\n\" id=\"DejaVuSans-46\"/>\n      </defs>\n      <g transform=\"translate(286.676462 34.685696)rotate(-40)scale(0.1 -0.1)\">\n       <use xlink:href=\"#DejaVuSans-46\"/>\n      </g>\n     </g>\n    </g>\n   </g>\n   <g id=\"matplotlib.axis_2\">\n    <g id=\"ytick_1\">\n     <g id=\"line2d_6\">\n      <defs>\n       <path d=\"M 0 0 \nL -3.5 0 \n\" id=\"m06079559ea\" style=\"stroke:#000000;stroke-width:0.8;\"/>\n      </defs>\n      <g>\n       <use style=\"stroke:#000000;stroke-width:0.8;\" x=\"45.064063\" xlink:href=\"#m06079559ea\" y=\"65.022829\"/>\n      </g>\n     </g>\n     <g id=\"text_6\">\n      <!-- i -->\n      <g transform=\"translate(35.285938 68.822048)scale(0.1 -0.1)\">\n       <use xlink:href=\"#DejaVuSans-105\"/>\n      </g>\n     </g>\n    </g>\n    <g id=\"ytick_2\">\n     <g id=\"line2d_7\">\n      <g>\n       <use style=\"stroke:#000000;stroke-width:0.8;\" x=\"45.064063\" xlink:href=\"#m06079559ea\" y=\"108.510829\"/>\n      </g>\n     </g>\n     <g id=\"text_7\">\n      <!-- miss -->\n      <g transform=\"translate(15.126563 112.310048)scale(0.1 -0.1)\">\n       <use xlink:href=\"#DejaVuSans-109\"/>\n       <use x=\"97.412109\" xlink:href=\"#DejaVuSans-105\"/>\n       <use x=\"125.195312\" xlink:href=\"#DejaVuSans-115\"/>\n       <use x=\"177.294922\" xlink:href=\"#DejaVuSans-115\"/>\n      </g>\n     </g>\n    </g>\n    <g id=\"ytick_3\">\n     <g id=\"line2d_8\">\n      <g>\n       <use style=\"stroke:#000000;stroke-width:0.8;\" x=\"45.064063\" xlink:href=\"#m06079559ea\" y=\"151.998829\"/>\n      </g>\n     </g>\n     <g id=\"text_8\">\n      <!-- my -->\n      <defs>\n       <path d=\"M 32.171875 -5.078125 \nQ 28.375 -14.84375 24.75 -17.8125 \nQ 21.140625 -20.796875 15.09375 -20.796875 \nL 7.90625 -20.796875 \nL 7.90625 -13.28125 \nL 13.1875 -13.28125 \nQ 16.890625 -13.28125 18.9375 -11.515625 \nQ 21 -9.765625 23.484375 -3.21875 \nL 25.09375 0.875 \nL 2.984375 54.6875 \nL 12.5 54.6875 \nL 29.59375 11.921875 \nL 46.6875 54.6875 \nL 56.203125 54.6875 \nz\n\" id=\"DejaVuSans-121\"/>\n      </defs>\n      <g transform=\"translate(22.404688 155.798048)scale(0.1 -0.1)\">\n       <use xlink:href=\"#DejaVuSans-109\"/>\n       <use x=\"97.412109\" xlink:href=\"#DejaVuSans-121\"/>\n      </g>\n     </g>\n    </g>\n    <g id=\"ytick_4\">\n     <g id=\"line2d_9\">\n      <g>\n       <use style=\"stroke:#000000;stroke-width:0.8;\" x=\"45.064063\" xlink:href=\"#m06079559ea\" y=\"195.486829\"/>\n      </g>\n     </g>\n     <g id=\"text_9\">\n      <!-- family -->\n      <g transform=\"translate(7.2 199.286048)scale(0.1 -0.1)\">\n       <use xlink:href=\"#DejaVuSans-102\"/>\n       <use x=\"35.205078\" xlink:href=\"#DejaVuSans-97\"/>\n       <use x=\"96.484375\" xlink:href=\"#DejaVuSans-109\"/>\n       <use x=\"193.896484\" xlink:href=\"#DejaVuSans-105\"/>\n       <use x=\"221.679688\" xlink:href=\"#DejaVuSans-108\"/>\n       <use x=\"249.462891\" xlink:href=\"#DejaVuSans-121\"/>\n      </g>\n     </g>\n    </g>\n    <g id=\"ytick_5\">\n     <g id=\"line2d_10\">\n      <g>\n       <use style=\"stroke:#000000;stroke-width:0.8;\" x=\"45.064063\" xlink:href=\"#m06079559ea\" y=\"238.974829\"/>\n      </g>\n     </g>\n     <g id=\"text_10\">\n      <!-- . -->\n      <g transform=\"translate(34.885938 242.774048)scale(0.1 -0.1)\">\n       <use xlink:href=\"#DejaVuSans-46\"/>\n      </g>\n     </g>\n    </g>\n   </g>\n   <g id=\"patch_3\">\n    <path d=\"M 45.064063 260.718829 \nL 45.064063 43.278829 \n\" style=\"fill:none;stroke:#000000;stroke-linecap:square;stroke-linejoin:miter;stroke-width:0.8;\"/>\n   </g>\n   <g id=\"patch_4\">\n    <path d=\"M 312.904063 260.718829 \nL 312.904063 43.278829 \n\" style=\"fill:none;stroke:#000000;stroke-linecap:square;stroke-linejoin:miter;stroke-width:0.8;\"/>\n   </g>\n   <g id=\"patch_5\">\n    <path d=\"M 45.064063 260.718829 \nL 312.904063 260.718829 \n\" style=\"fill:none;stroke:#000000;stroke-linecap:square;stroke-linejoin:miter;stroke-width:0.8;\"/>\n   </g>\n   <g id=\"patch_6\">\n    <path d=\"M 45.064063 43.278829 \nL 312.904063 43.278829 \n\" style=\"fill:none;stroke:#000000;stroke-linecap:square;stroke-linejoin:miter;stroke-width:0.8;\"/>\n   </g>\n  </g>\n  <g id=\"axes_2\">\n   <g id=\"patch_7\">\n    <path clip-path=\"url(#pf99f841e3a)\" d=\"M 329.644063 260.718829 \nL 329.644063 259.869454 \nL 329.644063 44.128204 \nL 329.644063 43.278829 \nL 340.516063 43.278829 \nL 340.516063 44.128204 \nL 340.516063 259.869454 \nL 340.516063 260.718829 \nz\n\" style=\"fill:#ffffff;stroke:#ffffff;stroke-linejoin:miter;stroke-width:0.01;\"/>\n   </g>\n   <image height=\"218\" id=\"image3668a7921b\" transform=\"scale(1 -1)translate(0 -218)\" width=\"11\" x=\"330\" xlink:href=\"data:image/png;base64,\niVBORw0KGgoAAAANSUhEUgAAAAsAAADaCAYAAABwzrisAAAABHNCSVQICAgIfAhkiAAAARxJREFUaIHtmDsKAzEQQ8efItfJwXL/MmlDqnmBt4jFWwuh0ciy2fF4vt7V/HaN0cXWrjEJOIN5rggZ4oCbgDM0n3Vfw3x3N+ZEzG1s7UFkpIDJ6Q7R7C3l/tk46/4Co3WHaIYDIuY2FmsGzJ5myOyB29ggn8+Af8oICVKIGzPD5+UVI6j+DVTkDBiSjT4xdiPCOjEbGQN62UBd138Cqhs0qwDJ8KyzZHgDQs0A7F0TqOtg6gCYBUmTgboOHtiIrlteP/eJzbvbW7fnBrsmPGaUOtJI3pPYXDdgFp/xIW6I6wZgszciBmR/ArXUeTJCrPOClGJdiIw+9oT/lxmAQ8KPBizNOu+Ghdkg4JDURcggj9yY34YpvREhA23wA0LvB1I4r4BVAAAAAElFTkSuQmCC\" y=\"-42\"/>\n   <g id=\"matplotlib.axis_3\"/>\n   <g id=\"matplotlib.axis_4\">\n    <g id=\"ytick_6\">\n     <g id=\"line2d_11\">\n      <defs>\n       <path d=\"M 0 0 \nL 3.5 0 \n\" id=\"m2338589eb2\" style=\"stroke:#000000;stroke-width:0.8;\"/>\n      </defs>\n      <g>\n       <use style=\"stroke:#000000;stroke-width:0.8;\" x=\"340.516063\" xlink:href=\"#m2338589eb2\" y=\"260.718829\"/>\n      </g>\n     </g>\n     <g id=\"text_11\">\n      <!-- 0.0 -->\n      <defs>\n       <path d=\"M 31.78125 66.40625 \nQ 24.171875 66.40625 20.328125 58.90625 \nQ 16.5 51.421875 16.5 36.375 \nQ 16.5 21.390625 20.328125 13.890625 \nQ 24.171875 6.390625 31.78125 6.390625 \nQ 39.453125 6.390625 43.28125 13.890625 \nQ 47.125 21.390625 47.125 36.375 \nQ 47.125 51.421875 43.28125 58.90625 \nQ 39.453125 66.40625 31.78125 66.40625 \nz\nM 31.78125 74.21875 \nQ 44.046875 74.21875 50.515625 64.515625 \nQ 56.984375 54.828125 56.984375 36.375 \nQ 56.984375 17.96875 50.515625 8.265625 \nQ 44.046875 -1.421875 31.78125 -1.421875 \nQ 19.53125 -1.421875 13.0625 8.265625 \nQ 6.59375 17.96875 6.59375 36.375 \nQ 6.59375 54.828125 13.0625 64.515625 \nQ 19.53125 74.21875 31.78125 74.21875 \nz\n\" id=\"DejaVuSans-48\"/>\n      </defs>\n      <g transform=\"translate(347.516063 264.518048)scale(0.1 -0.1)\">\n       <use xlink:href=\"#DejaVuSans-48\"/>\n       <use x=\"63.623047\" xlink:href=\"#DejaVuSans-46\"/>\n       <use x=\"95.410156\" xlink:href=\"#DejaVuSans-48\"/>\n      </g>\n     </g>\n    </g>\n    <g id=\"ytick_7\">\n     <g id=\"line2d_12\">\n      <g>\n       <use style=\"stroke:#000000;stroke-width:0.8;\" x=\"340.516063\" xlink:href=\"#m2338589eb2\" y=\"217.230829\"/>\n      </g>\n     </g>\n     <g id=\"text_12\">\n      <!-- 0.2 -->\n      <defs>\n       <path d=\"M 19.1875 8.296875 \nL 53.609375 8.296875 \nL 53.609375 0 \nL 7.328125 0 \nL 7.328125 8.296875 \nQ 12.9375 14.109375 22.625 23.890625 \nQ 32.328125 33.6875 34.8125 36.53125 \nQ 39.546875 41.84375 41.421875 45.53125 \nQ 43.3125 49.21875 43.3125 52.78125 \nQ 43.3125 58.59375 39.234375 62.25 \nQ 35.15625 65.921875 28.609375 65.921875 \nQ 23.96875 65.921875 18.8125 64.3125 \nQ 13.671875 62.703125 7.8125 59.421875 \nL 7.8125 69.390625 \nQ 13.765625 71.78125 18.9375 73 \nQ 24.125 74.21875 28.421875 74.21875 \nQ 39.75 74.21875 46.484375 68.546875 \nQ 53.21875 62.890625 53.21875 53.421875 \nQ 53.21875 48.921875 51.53125 44.890625 \nQ 49.859375 40.875 45.40625 35.40625 \nQ 44.1875 33.984375 37.640625 27.21875 \nQ 31.109375 20.453125 19.1875 8.296875 \nz\n\" id=\"DejaVuSans-50\"/>\n      </defs>\n      <g transform=\"translate(347.516063 221.030048)scale(0.1 -0.1)\">\n       <use xlink:href=\"#DejaVuSans-48\"/>\n       <use x=\"63.623047\" xlink:href=\"#DejaVuSans-46\"/>\n       <use x=\"95.410156\" xlink:href=\"#DejaVuSans-50\"/>\n      </g>\n     </g>\n    </g>\n    <g id=\"ytick_8\">\n     <g id=\"line2d_13\">\n      <g>\n       <use style=\"stroke:#000000;stroke-width:0.8;\" x=\"340.516063\" xlink:href=\"#m2338589eb2\" y=\"173.742829\"/>\n      </g>\n     </g>\n     <g id=\"text_13\">\n      <!-- 0.4 -->\n      <defs>\n       <path d=\"M 37.796875 64.3125 \nL 12.890625 25.390625 \nL 37.796875 25.390625 \nz\nM 35.203125 72.90625 \nL 47.609375 72.90625 \nL 47.609375 25.390625 \nL 58.015625 25.390625 \nL 58.015625 17.1875 \nL 47.609375 17.1875 \nL 47.609375 0 \nL 37.796875 0 \nL 37.796875 17.1875 \nL 4.890625 17.1875 \nL 4.890625 26.703125 \nz\n\" id=\"DejaVuSans-52\"/>\n      </defs>\n      <g transform=\"translate(347.516063 177.542048)scale(0.1 -0.1)\">\n       <use xlink:href=\"#DejaVuSans-48\"/>\n       <use x=\"63.623047\" xlink:href=\"#DejaVuSans-46\"/>\n       <use x=\"95.410156\" xlink:href=\"#DejaVuSans-52\"/>\n      </g>\n     </g>\n    </g>\n    <g id=\"ytick_9\">\n     <g id=\"line2d_14\">\n      <g>\n       <use style=\"stroke:#000000;stroke-width:0.8;\" x=\"340.516063\" xlink:href=\"#m2338589eb2\" y=\"130.254829\"/>\n      </g>\n     </g>\n     <g id=\"text_14\">\n      <!-- 0.6 -->\n      <defs>\n       <path d=\"M 33.015625 40.375 \nQ 26.375 40.375 22.484375 35.828125 \nQ 18.609375 31.296875 18.609375 23.390625 \nQ 18.609375 15.53125 22.484375 10.953125 \nQ 26.375 6.390625 33.015625 6.390625 \nQ 39.65625 6.390625 43.53125 10.953125 \nQ 47.40625 15.53125 47.40625 23.390625 \nQ 47.40625 31.296875 43.53125 35.828125 \nQ 39.65625 40.375 33.015625 40.375 \nz\nM 52.59375 71.296875 \nL 52.59375 62.3125 \nQ 48.875 64.0625 45.09375 64.984375 \nQ 41.3125 65.921875 37.59375 65.921875 \nQ 27.828125 65.921875 22.671875 59.328125 \nQ 17.53125 52.734375 16.796875 39.40625 \nQ 19.671875 43.65625 24.015625 45.921875 \nQ 28.375 48.1875 33.59375 48.1875 \nQ 44.578125 48.1875 50.953125 41.515625 \nQ 57.328125 34.859375 57.328125 23.390625 \nQ 57.328125 12.15625 50.6875 5.359375 \nQ 44.046875 -1.421875 33.015625 -1.421875 \nQ 20.359375 -1.421875 13.671875 8.265625 \nQ 6.984375 17.96875 6.984375 36.375 \nQ 6.984375 53.65625 15.1875 63.9375 \nQ 23.390625 74.21875 37.203125 74.21875 \nQ 40.921875 74.21875 44.703125 73.484375 \nQ 48.484375 72.75 52.59375 71.296875 \nz\n\" id=\"DejaVuSans-54\"/>\n      </defs>\n      <g transform=\"translate(347.516063 134.054048)scale(0.1 -0.1)\">\n       <use xlink:href=\"#DejaVuSans-48\"/>\n       <use x=\"63.623047\" xlink:href=\"#DejaVuSans-46\"/>\n       <use x=\"95.410156\" xlink:href=\"#DejaVuSans-54\"/>\n      </g>\n     </g>\n    </g>\n    <g id=\"ytick_10\">\n     <g id=\"line2d_15\">\n      <g>\n       <use style=\"stroke:#000000;stroke-width:0.8;\" x=\"340.516063\" xlink:href=\"#m2338589eb2\" y=\"86.766829\"/>\n      </g>\n     </g>\n     <g id=\"text_15\">\n      <!-- 0.8 -->\n      <defs>\n       <path d=\"M 31.78125 34.625 \nQ 24.75 34.625 20.71875 30.859375 \nQ 16.703125 27.09375 16.703125 20.515625 \nQ 16.703125 13.921875 20.71875 10.15625 \nQ 24.75 6.390625 31.78125 6.390625 \nQ 38.8125 6.390625 42.859375 10.171875 \nQ 46.921875 13.96875 46.921875 20.515625 \nQ 46.921875 27.09375 42.890625 30.859375 \nQ 38.875 34.625 31.78125 34.625 \nz\nM 21.921875 38.8125 \nQ 15.578125 40.375 12.03125 44.71875 \nQ 8.5 49.078125 8.5 55.328125 \nQ 8.5 64.0625 14.71875 69.140625 \nQ 20.953125 74.21875 31.78125 74.21875 \nQ 42.671875 74.21875 48.875 69.140625 \nQ 55.078125 64.0625 55.078125 55.328125 \nQ 55.078125 49.078125 51.53125 44.71875 \nQ 48 40.375 41.703125 38.8125 \nQ 48.828125 37.15625 52.796875 32.3125 \nQ 56.78125 27.484375 56.78125 20.515625 \nQ 56.78125 9.90625 50.3125 4.234375 \nQ 43.84375 -1.421875 31.78125 -1.421875 \nQ 19.734375 -1.421875 13.25 4.234375 \nQ 6.78125 9.90625 6.78125 20.515625 \nQ 6.78125 27.484375 10.78125 32.3125 \nQ 14.796875 37.15625 21.921875 38.8125 \nz\nM 18.3125 54.390625 \nQ 18.3125 48.734375 21.84375 45.5625 \nQ 25.390625 42.390625 31.78125 42.390625 \nQ 38.140625 42.390625 41.71875 45.5625 \nQ 45.3125 48.734375 45.3125 54.390625 \nQ 45.3125 60.0625 41.71875 63.234375 \nQ 38.140625 66.40625 31.78125 66.40625 \nQ 25.390625 66.40625 21.84375 63.234375 \nQ 18.3125 60.0625 18.3125 54.390625 \nz\n\" id=\"DejaVuSans-56\"/>\n      </defs>\n      <g transform=\"translate(347.516063 90.566048)scale(0.1 -0.1)\">\n       <use xlink:href=\"#DejaVuSans-48\"/>\n       <use x=\"63.623047\" xlink:href=\"#DejaVuSans-46\"/>\n       <use x=\"95.410156\" xlink:href=\"#DejaVuSans-56\"/>\n      </g>\n     </g>\n    </g>\n    <g id=\"ytick_11\">\n     <g id=\"line2d_16\">\n      <g>\n       <use style=\"stroke:#000000;stroke-width:0.8;\" x=\"340.516063\" xlink:href=\"#m2338589eb2\" y=\"43.278829\"/>\n      </g>\n     </g>\n     <g id=\"text_16\">\n      <!-- 1.0 -->\n      <defs>\n       <path d=\"M 12.40625 8.296875 \nL 28.515625 8.296875 \nL 28.515625 63.921875 \nL 10.984375 60.40625 \nL 10.984375 69.390625 \nL 28.421875 72.90625 \nL 38.28125 72.90625 \nL 38.28125 8.296875 \nL 54.390625 8.296875 \nL 54.390625 0 \nL 12.40625 0 \nz\n\" id=\"DejaVuSans-49\"/>\n      </defs>\n      <g transform=\"translate(347.516063 47.078048)scale(0.1 -0.1)\">\n       <use xlink:href=\"#DejaVuSans-49\"/>\n       <use x=\"63.623047\" xlink:href=\"#DejaVuSans-46\"/>\n       <use x=\"95.410156\" xlink:href=\"#DejaVuSans-48\"/>\n      </g>\n     </g>\n    </g>\n   </g>\n   <g id=\"patch_8\">\n    <path d=\"M 329.644063 260.718829 \nL 329.644063 259.869454 \nL 329.644063 44.128204 \nL 329.644063 43.278829 \nL 340.516063 43.278829 \nL 340.516063 44.128204 \nL 340.516063 259.869454 \nL 340.516063 260.718829 \nz\n\" style=\"fill:none;stroke:#000000;stroke-linejoin:miter;stroke-width:0.8;\"/>\n   </g>\n  </g>\n </g>\n <defs>\n  <clipPath id=\"p1c7c787259\">\n   <rect height=\"217.44\" width=\"267.84\" x=\"45.064063\" y=\"43.278829\"/>\n  </clipPath>\n  <clipPath id=\"pf99f841e3a\">\n   <rect height=\"217.44\" width=\"10.872\" x=\"329.644063\" y=\"43.278829\"/>\n  </clipPath>\n </defs>\n</svg>\n",
      "text/plain": [
       "<Figure size 432x288 with 2 Axes>"
      ]
     },
     "metadata": {
      "needs_background": "light"
     },
     "output_type": "display_data"
    }
   ],
   "source": [
    "plot_attention(translator, 'jag saknar min familj . ')"
   ]
  },
  {
   "attachments": {},
   "cell_type": "markdown",
   "metadata": {},
   "source": [
    "#### 🤔 Task 7: Use these heatmaps to inspect the attention patterns for selected Swedish sentences\n",
    "\n",
    "Try to find sentences for which the model produces reasonably good English translations. If you don't speak Swedish, use sentences from the validation data. It might be interesting to look at examples where the Swedish and the English word order differ substantially.\n",
    "\n",
    "Based on your exploration, **answer the following questions:**\n",
    "\n",
    "- What sentences did you try out? What patterns did you spot? Include example heatmaps in your notebook.  \n",
    "    - we tried 'jag talar inte svenska . '. from the plot we can find that the different order of 'talar inte' and 'dont speak' in 2 languages makes the attention widely connected to almost all related words but not only 1-to-1 like previous 'jag saknar min familj . '\n",
    "\n",
    "\n",
    "- Based on what you know about attention, did you expect your results? Was there anything surprising in them?\n",
    "    - It's expected, the model needs to 'attend to' both talar and inte to get correct tranlation without misunderstanding or wrongly ordered sentence like 'i speak not swidish' \n",
    "    - but there is something suprising that the word 'svenska' didnt corectly translated and the attention seems not properly distributed. Which it's supposed to weight on only 1 word and easily translated from 'svenska' towords 'swidish'. It might be affected by the previous 'talar-inte-' structure and make the model overcomlicated the task."
   ]
  },
  {
   "cell_type": "code",
   "execution_count": 47,
   "metadata": {},
   "outputs": [
    {
     "data": {
      "image/svg+xml": "<?xml version=\"1.0\" encoding=\"utf-8\" standalone=\"no\"?>\n<!DOCTYPE svg PUBLIC \"-//W3C//DTD SVG 1.1//EN\"\n  \"http://www.w3.org/Graphics/SVG/1.1/DTD/svg11.dtd\">\n<!-- Created with matplotlib (https://matplotlib.org/) -->\n<svg height=\"278.323362pt\" version=\"1.1\" viewBox=\"0 0 376.55825 278.323362\" width=\"376.55825pt\" xmlns=\"http://www.w3.org/2000/svg\" xmlns:xlink=\"http://www.w3.org/1999/xlink\">\n <defs>\n  <style type=\"text/css\">\n*{stroke-linecap:butt;stroke-linejoin:round;}\n  </style>\n </defs>\n <g id=\"figure_1\">\n  <g id=\"patch_1\">\n   <path d=\"M 0 278.323362 \nL 376.55825 278.323362 \nL 376.55825 0 \nL 0 0 \nz\n\" style=\"fill:none;\"/>\n  </g>\n  <g id=\"axes_1\">\n   <g id=\"patch_2\">\n    <path d=\"M 51.003125 265.244456 \nL 318.843125 265.244456 \nL 318.843125 47.804456 \nL 51.003125 47.804456 \nz\n\" style=\"fill:#ffffff;\"/>\n   </g>\n   <g id=\"PolyCollection_1\">\n    <path clip-path=\"url(#p5350b3ae08)\" d=\"M 51.003125 47.804456 \nL 51.003125 74.984456 \nL 104.571125 74.984456 \nL 104.571125 47.804456 \nL 51.003125 47.804456 \nz\n\" style=\"fill:#eef5fc;\"/>\n    <path clip-path=\"url(#p5350b3ae08)\" d=\"M 104.571125 47.804456 \nL 104.571125 74.984456 \nL 158.139125 74.984456 \nL 158.139125 47.804456 \nL 104.571125 47.804456 \nz\n\" style=\"fill:#083b7c;\"/>\n    <path clip-path=\"url(#p5350b3ae08)\" d=\"M 158.139125 47.804456 \nL 158.139125 74.984456 \nL 211.707125 74.984456 \nL 211.707125 47.804456 \nL 158.139125 47.804456 \nz\n\" style=\"fill:#08316d;\"/>\n    <path clip-path=\"url(#p5350b3ae08)\" d=\"M 211.707125 47.804456 \nL 211.707125 74.984456 \nL 265.275125 74.984456 \nL 265.275125 47.804456 \nL 211.707125 47.804456 \nz\n\" style=\"fill:#08306b;\"/>\n    <path clip-path=\"url(#p5350b3ae08)\" d=\"M 265.275125 47.804456 \nL 265.275125 74.984456 \nL 318.843125 74.984456 \nL 318.843125 47.804456 \nL 265.275125 47.804456 \nz\n\" style=\"fill:#08306b;\"/>\n    <path clip-path=\"url(#p5350b3ae08)\" d=\"M 51.003125 74.984456 \nL 51.003125 102.164456 \nL 104.571125 102.164456 \nL 104.571125 74.984456 \nL 51.003125 74.984456 \nz\n\" style=\"fill:#08326e;\"/>\n    <path clip-path=\"url(#p5350b3ae08)\" d=\"M 104.571125 74.984456 \nL 104.571125 102.164456 \nL 158.139125 102.164456 \nL 158.139125 74.984456 \nL 104.571125 74.984456 \nz\n\" style=\"fill:#d3e3f3;\"/>\n    <path clip-path=\"url(#p5350b3ae08)\" d=\"M 158.139125 74.984456 \nL 158.139125 102.164456 \nL 211.707125 102.164456 \nL 211.707125 74.984456 \nL 158.139125 74.984456 \nz\n\" style=\"fill:#125da6;\"/>\n    <path clip-path=\"url(#p5350b3ae08)\" d=\"M 211.707125 74.984456 \nL 211.707125 102.164456 \nL 265.275125 102.164456 \nL 265.275125 74.984456 \nL 211.707125 74.984456 \nz\n\" style=\"fill:#08306b;\"/>\n    <path clip-path=\"url(#p5350b3ae08)\" d=\"M 265.275125 74.984456 \nL 265.275125 102.164456 \nL 318.843125 102.164456 \nL 318.843125 74.984456 \nL 265.275125 74.984456 \nz\n\" style=\"fill:#08306b;\"/>\n    <path clip-path=\"url(#p5350b3ae08)\" d=\"M 51.003125 102.164456 \nL 51.003125 129.344456 \nL 104.571125 129.344456 \nL 104.571125 102.164456 \nL 51.003125 102.164456 \nz\n\" style=\"fill:#08316d;\"/>\n    <path clip-path=\"url(#p5350b3ae08)\" d=\"M 104.571125 102.164456 \nL 104.571125 129.344456 \nL 158.139125 129.344456 \nL 158.139125 102.164456 \nL 104.571125 102.164456 \nz\n\" style=\"fill:#2373b6;\"/>\n    <path clip-path=\"url(#p5350b3ae08)\" d=\"M 158.139125 102.164456 \nL 158.139125 129.344456 \nL 211.707125 129.344456 \nL 211.707125 102.164456 \nL 158.139125 102.164456 \nz\n\" style=\"fill:#4493c7;\"/>\n    <path clip-path=\"url(#p5350b3ae08)\" d=\"M 211.707125 102.164456 \nL 211.707125 129.344456 \nL 265.275125 129.344456 \nL 265.275125 102.164456 \nL 211.707125 102.164456 \nz\n\" style=\"fill:#3c8cc3;\"/>\n    <path clip-path=\"url(#p5350b3ae08)\" d=\"M 265.275125 102.164456 \nL 265.275125 129.344456 \nL 318.843125 129.344456 \nL 318.843125 102.164456 \nL 265.275125 102.164456 \nz\n\" style=\"fill:#08306b;\"/>\n    <path clip-path=\"url(#p5350b3ae08)\" d=\"M 51.003125 129.344456 \nL 51.003125 156.524456 \nL 104.571125 156.524456 \nL 104.571125 129.344456 \nL 51.003125 129.344456 \nz\n\" style=\"fill:#08316d;\"/>\n    <path clip-path=\"url(#p5350b3ae08)\" d=\"M 104.571125 129.344456 \nL 104.571125 156.524456 \nL 158.139125 156.524456 \nL 158.139125 129.344456 \nL 104.571125 129.344456 \nz\n\" style=\"fill:#3585bf;\"/>\n    <path clip-path=\"url(#p5350b3ae08)\" d=\"M 158.139125 129.344456 \nL 158.139125 156.524456 \nL 211.707125 156.524456 \nL 211.707125 129.344456 \nL 158.139125 129.344456 \nz\n\" style=\"fill:#0f5aa3;\"/>\n    <path clip-path=\"url(#p5350b3ae08)\" d=\"M 211.707125 129.344456 \nL 211.707125 156.524456 \nL 265.275125 156.524456 \nL 265.275125 129.344456 \nL 211.707125 129.344456 \nz\n\" style=\"fill:#6dafd7;\"/>\n    <path clip-path=\"url(#p5350b3ae08)\" d=\"M 265.275125 129.344456 \nL 265.275125 156.524456 \nL 318.843125 156.524456 \nL 318.843125 129.344456 \nL 265.275125 129.344456 \nz\n\" style=\"fill:#08306b;\"/>\n    <path clip-path=\"url(#p5350b3ae08)\" d=\"M 51.003125 156.524456 \nL 51.003125 183.704456 \nL 104.571125 183.704456 \nL 104.571125 156.524456 \nL 51.003125 156.524456 \nz\n\" style=\"fill:#08326e;\"/>\n    <path clip-path=\"url(#p5350b3ae08)\" d=\"M 104.571125 156.524456 \nL 104.571125 183.704456 \nL 158.139125 183.704456 \nL 158.139125 156.524456 \nL 104.571125 156.524456 \nz\n\" style=\"fill:#cadef0;\"/>\n    <path clip-path=\"url(#p5350b3ae08)\" d=\"M 158.139125 156.524456 \nL 158.139125 183.704456 \nL 211.707125 183.704456 \nL 211.707125 156.524456 \nL 158.139125 156.524456 \nz\n\" style=\"fill:#083d7f;\"/>\n    <path clip-path=\"url(#p5350b3ae08)\" d=\"M 211.707125 156.524456 \nL 211.707125 183.704456 \nL 265.275125 183.704456 \nL 265.275125 156.524456 \nL 211.707125 156.524456 \nz\n\" style=\"fill:#105ba4;\"/>\n    <path clip-path=\"url(#p5350b3ae08)\" d=\"M 265.275125 156.524456 \nL 265.275125 183.704456 \nL 318.843125 183.704456 \nL 318.843125 156.524456 \nL 265.275125 156.524456 \nz\n\" style=\"fill:#08306b;\"/>\n    <path clip-path=\"url(#p5350b3ae08)\" d=\"M 51.003125 183.704456 \nL 51.003125 210.884456 \nL 104.571125 210.884456 \nL 104.571125 183.704456 \nL 51.003125 183.704456 \nz\n\" style=\"fill:#08306b;\"/>\n    <path clip-path=\"url(#p5350b3ae08)\" d=\"M 104.571125 183.704456 \nL 104.571125 210.884456 \nL 158.139125 210.884456 \nL 158.139125 183.704456 \nL 104.571125 183.704456 \nz\n\" style=\"fill:#083573;\"/>\n    <path clip-path=\"url(#p5350b3ae08)\" d=\"M 158.139125 183.704456 \nL 158.139125 210.884456 \nL 211.707125 210.884456 \nL 211.707125 183.704456 \nL 158.139125 183.704456 \nz\n\" style=\"fill:#083471;\"/>\n    <path clip-path=\"url(#p5350b3ae08)\" d=\"M 211.707125 183.704456 \nL 211.707125 210.884456 \nL 265.275125 210.884456 \nL 265.275125 183.704456 \nL 211.707125 183.704456 \nz\n\" style=\"fill:#eaf3fb;\"/>\n    <path clip-path=\"url(#p5350b3ae08)\" d=\"M 265.275125 183.704456 \nL 265.275125 210.884456 \nL 318.843125 210.884456 \nL 318.843125 183.704456 \nL 265.275125 183.704456 \nz\n\" style=\"fill:#083674;\"/>\n    <path clip-path=\"url(#p5350b3ae08)\" d=\"M 51.003125 210.884456 \nL 51.003125 238.064456 \nL 104.571125 238.064456 \nL 104.571125 210.884456 \nL 51.003125 210.884456 \nz\n\" style=\"fill:#083674;\"/>\n    <path clip-path=\"url(#p5350b3ae08)\" d=\"M 104.571125 210.884456 \nL 104.571125 238.064456 \nL 158.139125 238.064456 \nL 158.139125 210.884456 \nL 104.571125 210.884456 \nz\n\" style=\"fill:#083877;\"/>\n    <path clip-path=\"url(#p5350b3ae08)\" d=\"M 158.139125 210.884456 \nL 158.139125 238.064456 \nL 211.707125 238.064456 \nL 211.707125 210.884456 \nL 158.139125 210.884456 \nz\n\" style=\"fill:#083c7d;\"/>\n    <path clip-path=\"url(#p5350b3ae08)\" d=\"M 211.707125 210.884456 \nL 211.707125 238.064456 \nL 265.275125 238.064456 \nL 265.275125 210.884456 \nL 211.707125 210.884456 \nz\n\" style=\"fill:#cadef0;\"/>\n    <path clip-path=\"url(#p5350b3ae08)\" d=\"M 265.275125 210.884456 \nL 265.275125 238.064456 \nL 318.843125 238.064456 \nL 318.843125 210.884456 \nL 265.275125 210.884456 \nz\n\" style=\"fill:#084f99;\"/>\n    <path clip-path=\"url(#p5350b3ae08)\" d=\"M 51.003125 238.064456 \nL 51.003125 265.244456 \nL 104.571125 265.244456 \nL 104.571125 238.064456 \nL 51.003125 238.064456 \nz\n\" style=\"fill:#083370;\"/>\n    <path clip-path=\"url(#p5350b3ae08)\" d=\"M 104.571125 238.064456 \nL 104.571125 265.244456 \nL 158.139125 265.244456 \nL 158.139125 238.064456 \nL 104.571125 238.064456 \nz\n\" style=\"fill:#08326e;\"/>\n    <path clip-path=\"url(#p5350b3ae08)\" d=\"M 158.139125 238.064456 \nL 158.139125 265.244456 \nL 211.707125 265.244456 \nL 211.707125 238.064456 \nL 158.139125 238.064456 \nz\n\" style=\"fill:#083776;\"/>\n    <path clip-path=\"url(#p5350b3ae08)\" d=\"M 211.707125 238.064456 \nL 211.707125 265.244456 \nL 265.275125 265.244456 \nL 265.275125 238.064456 \nL 211.707125 238.064456 \nz\n\" style=\"fill:#8dc1dd;\"/>\n    <path clip-path=\"url(#p5350b3ae08)\" d=\"M 265.275125 238.064456 \nL 265.275125 265.244456 \nL 318.843125 265.244456 \nL 318.843125 238.064456 \nL 265.275125 238.064456 \nz\n\" style=\"fill:#3e8ec4;\"/>\n   </g>\n   <g id=\"matplotlib.axis_1\">\n    <g id=\"xtick_1\">\n     <g id=\"line2d_1\">\n      <defs>\n       <path d=\"M 0 0 \nL 0 -3.5 \n\" id=\"m1faf61c6da\" style=\"stroke:#000000;stroke-width:0.8;\"/>\n      </defs>\n      <g>\n       <use style=\"stroke:#000000;stroke-width:0.8;\" x=\"77.787125\" xlink:href=\"#m1faf61c6da\" y=\"47.804456\"/>\n      </g>\n     </g>\n     <g id=\"text_1\">\n      <!-- jag -->\n      <defs>\n       <path d=\"M 9.421875 54.6875 \nL 18.40625 54.6875 \nL 18.40625 -0.984375 \nQ 18.40625 -11.421875 14.421875 -16.109375 \nQ 10.453125 -20.796875 1.609375 -20.796875 \nL -1.8125 -20.796875 \nL -1.8125 -13.1875 \nL 0.59375 -13.1875 \nQ 5.71875 -13.1875 7.5625 -10.8125 \nQ 9.421875 -8.453125 9.421875 -0.984375 \nz\nM 9.421875 75.984375 \nL 18.40625 75.984375 \nL 18.40625 64.59375 \nL 9.421875 64.59375 \nz\n\" id=\"DejaVuSans-106\"/>\n       <path d=\"M 34.28125 27.484375 \nQ 23.390625 27.484375 19.1875 25 \nQ 14.984375 22.515625 14.984375 16.5 \nQ 14.984375 11.71875 18.140625 8.90625 \nQ 21.296875 6.109375 26.703125 6.109375 \nQ 34.1875 6.109375 38.703125 11.40625 \nQ 43.21875 16.703125 43.21875 25.484375 \nL 43.21875 27.484375 \nz\nM 52.203125 31.203125 \nL 52.203125 0 \nL 43.21875 0 \nL 43.21875 8.296875 \nQ 40.140625 3.328125 35.546875 0.953125 \nQ 30.953125 -1.421875 24.3125 -1.421875 \nQ 15.921875 -1.421875 10.953125 3.296875 \nQ 6 8.015625 6 15.921875 \nQ 6 25.140625 12.171875 29.828125 \nQ 18.359375 34.515625 30.609375 34.515625 \nL 43.21875 34.515625 \nL 43.21875 35.40625 \nQ 43.21875 41.609375 39.140625 45 \nQ 35.0625 48.390625 27.6875 48.390625 \nQ 23 48.390625 18.546875 47.265625 \nQ 14.109375 46.140625 10.015625 43.890625 \nL 10.015625 52.203125 \nQ 14.9375 54.109375 19.578125 55.046875 \nQ 24.21875 56 28.609375 56 \nQ 40.484375 56 46.34375 49.84375 \nQ 52.203125 43.703125 52.203125 31.203125 \nz\n\" id=\"DejaVuSans-97\"/>\n       <path d=\"M 45.40625 27.984375 \nQ 45.40625 37.75 41.375 43.109375 \nQ 37.359375 48.484375 30.078125 48.484375 \nQ 22.859375 48.484375 18.828125 43.109375 \nQ 14.796875 37.75 14.796875 27.984375 \nQ 14.796875 18.265625 18.828125 12.890625 \nQ 22.859375 7.515625 30.078125 7.515625 \nQ 37.359375 7.515625 41.375 12.890625 \nQ 45.40625 18.265625 45.40625 27.984375 \nz\nM 54.390625 6.78125 \nQ 54.390625 -7.171875 48.1875 -13.984375 \nQ 42 -20.796875 29.203125 -20.796875 \nQ 24.46875 -20.796875 20.265625 -20.09375 \nQ 16.0625 -19.390625 12.109375 -17.921875 \nL 12.109375 -9.1875 \nQ 16.0625 -11.328125 19.921875 -12.34375 \nQ 23.78125 -13.375 27.78125 -13.375 \nQ 36.625 -13.375 41.015625 -8.765625 \nQ 45.40625 -4.15625 45.40625 5.171875 \nL 45.40625 9.625 \nQ 42.625 4.78125 38.28125 2.390625 \nQ 33.9375 0 27.875 0 \nQ 17.828125 0 11.671875 7.65625 \nQ 5.515625 15.328125 5.515625 27.984375 \nQ 5.515625 40.671875 11.671875 48.328125 \nQ 17.828125 56 27.875 56 \nQ 33.9375 56 38.28125 53.609375 \nQ 42.625 51.21875 45.40625 46.390625 \nL 45.40625 54.6875 \nL 54.390625 54.6875 \nz\n\" id=\"DejaVuSans-103\"/>\n      </defs>\n      <g transform=\"translate(73.717933 39.211323)rotate(-40)scale(0.1 -0.1)\">\n       <use xlink:href=\"#DejaVuSans-106\"/>\n       <use x=\"27.783203\" xlink:href=\"#DejaVuSans-97\"/>\n       <use x=\"89.0625\" xlink:href=\"#DejaVuSans-103\"/>\n      </g>\n     </g>\n    </g>\n    <g id=\"xtick_2\">\n     <g id=\"line2d_2\">\n      <g>\n       <use style=\"stroke:#000000;stroke-width:0.8;\" x=\"131.355125\" xlink:href=\"#m1faf61c6da\" y=\"47.804456\"/>\n      </g>\n     </g>\n     <g id=\"text_2\">\n      <!-- talar -->\n      <defs>\n       <path d=\"M 18.3125 70.21875 \nL 18.3125 54.6875 \nL 36.8125 54.6875 \nL 36.8125 47.703125 \nL 18.3125 47.703125 \nL 18.3125 18.015625 \nQ 18.3125 11.328125 20.140625 9.421875 \nQ 21.96875 7.515625 27.59375 7.515625 \nL 36.8125 7.515625 \nL 36.8125 0 \nL 27.59375 0 \nQ 17.1875 0 13.234375 3.875 \nQ 9.28125 7.765625 9.28125 18.015625 \nL 9.28125 47.703125 \nL 2.6875 47.703125 \nL 2.6875 54.6875 \nL 9.28125 54.6875 \nL 9.28125 70.21875 \nz\n\" id=\"DejaVuSans-116\"/>\n       <path d=\"M 9.421875 75.984375 \nL 18.40625 75.984375 \nL 18.40625 0 \nL 9.421875 0 \nz\n\" id=\"DejaVuSans-108\"/>\n       <path d=\"M 41.109375 46.296875 \nQ 39.59375 47.171875 37.8125 47.578125 \nQ 36.03125 48 33.890625 48 \nQ 26.265625 48 22.1875 43.046875 \nQ 18.109375 38.09375 18.109375 28.8125 \nL 18.109375 0 \nL 9.078125 0 \nL 9.078125 54.6875 \nL 18.109375 54.6875 \nL 18.109375 46.1875 \nQ 20.953125 51.171875 25.484375 53.578125 \nQ 30.03125 56 36.53125 56 \nQ 37.453125 56 38.578125 55.875 \nQ 39.703125 55.765625 41.0625 55.515625 \nz\n\" id=\"DejaVuSans-114\"/>\n      </defs>\n      <g transform=\"translate(124.29417 39.211323)rotate(-40)scale(0.1 -0.1)\">\n       <use xlink:href=\"#DejaVuSans-116\"/>\n       <use x=\"39.208984\" xlink:href=\"#DejaVuSans-97\"/>\n       <use x=\"100.488281\" xlink:href=\"#DejaVuSans-108\"/>\n       <use x=\"128.271484\" xlink:href=\"#DejaVuSans-97\"/>\n       <use x=\"189.550781\" xlink:href=\"#DejaVuSans-114\"/>\n      </g>\n     </g>\n    </g>\n    <g id=\"xtick_3\">\n     <g id=\"line2d_3\">\n      <g>\n       <use style=\"stroke:#000000;stroke-width:0.8;\" x=\"184.923125\" xlink:href=\"#m1faf61c6da\" y=\"47.804456\"/>\n      </g>\n     </g>\n     <g id=\"text_3\">\n      <!-- inte -->\n      <defs>\n       <path d=\"M 9.421875 54.6875 \nL 18.40625 54.6875 \nL 18.40625 0 \nL 9.421875 0 \nz\nM 9.421875 75.984375 \nL 18.40625 75.984375 \nL 18.40625 64.59375 \nL 9.421875 64.59375 \nz\n\" id=\"DejaVuSans-105\"/>\n       <path d=\"M 54.890625 33.015625 \nL 54.890625 0 \nL 45.90625 0 \nL 45.90625 32.71875 \nQ 45.90625 40.484375 42.875 44.328125 \nQ 39.84375 48.1875 33.796875 48.1875 \nQ 26.515625 48.1875 22.3125 43.546875 \nQ 18.109375 38.921875 18.109375 30.90625 \nL 18.109375 0 \nL 9.078125 0 \nL 9.078125 54.6875 \nL 18.109375 54.6875 \nL 18.109375 46.1875 \nQ 21.34375 51.125 25.703125 53.5625 \nQ 30.078125 56 35.796875 56 \nQ 45.21875 56 50.046875 50.171875 \nQ 54.890625 44.34375 54.890625 33.015625 \nz\n\" id=\"DejaVuSans-110\"/>\n       <path d=\"M 56.203125 29.59375 \nL 56.203125 25.203125 \nL 14.890625 25.203125 \nQ 15.484375 15.921875 20.484375 11.0625 \nQ 25.484375 6.203125 34.421875 6.203125 \nQ 39.59375 6.203125 44.453125 7.46875 \nQ 49.3125 8.734375 54.109375 11.28125 \nL 54.109375 2.78125 \nQ 49.265625 0.734375 44.1875 -0.34375 \nQ 39.109375 -1.421875 33.890625 -1.421875 \nQ 20.796875 -1.421875 13.15625 6.1875 \nQ 5.515625 13.8125 5.515625 26.8125 \nQ 5.515625 40.234375 12.765625 48.109375 \nQ 20.015625 56 32.328125 56 \nQ 43.359375 56 49.78125 48.890625 \nQ 56.203125 41.796875 56.203125 29.59375 \nz\nM 47.21875 32.234375 \nQ 47.125 39.59375 43.09375 43.984375 \nQ 39.0625 48.390625 32.421875 48.390625 \nQ 24.90625 48.390625 20.390625 44.140625 \nQ 15.875 39.890625 15.1875 32.171875 \nz\n\" id=\"DejaVuSans-101\"/>\n      </defs>\n      <g transform=\"translate(179.34698 39.211323)rotate(-40)scale(0.1 -0.1)\">\n       <use xlink:href=\"#DejaVuSans-105\"/>\n       <use x=\"27.783203\" xlink:href=\"#DejaVuSans-110\"/>\n       <use x=\"91.162109\" xlink:href=\"#DejaVuSans-116\"/>\n       <use x=\"130.371094\" xlink:href=\"#DejaVuSans-101\"/>\n      </g>\n     </g>\n    </g>\n    <g id=\"xtick_4\">\n     <g id=\"line2d_4\">\n      <g>\n       <use style=\"stroke:#000000;stroke-width:0.8;\" x=\"238.491125\" xlink:href=\"#m1faf61c6da\" y=\"47.804456\"/>\n      </g>\n     </g>\n     <g id=\"text_4\">\n      <!-- svenska -->\n      <defs>\n       <path d=\"M 44.28125 53.078125 \nL 44.28125 44.578125 \nQ 40.484375 46.53125 36.375 47.5 \nQ 32.28125 48.484375 27.875 48.484375 \nQ 21.1875 48.484375 17.84375 46.4375 \nQ 14.5 44.390625 14.5 40.28125 \nQ 14.5 37.15625 16.890625 35.375 \nQ 19.28125 33.59375 26.515625 31.984375 \nL 29.59375 31.296875 \nQ 39.15625 29.25 43.1875 25.515625 \nQ 47.21875 21.78125 47.21875 15.09375 \nQ 47.21875 7.46875 41.1875 3.015625 \nQ 35.15625 -1.421875 24.609375 -1.421875 \nQ 20.21875 -1.421875 15.453125 -0.5625 \nQ 10.6875 0.296875 5.421875 2 \nL 5.421875 11.28125 \nQ 10.40625 8.6875 15.234375 7.390625 \nQ 20.0625 6.109375 24.8125 6.109375 \nQ 31.15625 6.109375 34.5625 8.28125 \nQ 37.984375 10.453125 37.984375 14.40625 \nQ 37.984375 18.0625 35.515625 20.015625 \nQ 33.0625 21.96875 24.703125 23.78125 \nL 21.578125 24.515625 \nQ 13.234375 26.265625 9.515625 29.90625 \nQ 5.8125 33.546875 5.8125 39.890625 \nQ 5.8125 47.609375 11.28125 51.796875 \nQ 16.75 56 26.8125 56 \nQ 31.78125 56 36.171875 55.265625 \nQ 40.578125 54.546875 44.28125 53.078125 \nz\n\" id=\"DejaVuSans-115\"/>\n       <path d=\"M 2.984375 54.6875 \nL 12.5 54.6875 \nL 29.59375 8.796875 \nL 46.6875 54.6875 \nL 56.203125 54.6875 \nL 35.6875 0 \nL 23.484375 0 \nz\n\" id=\"DejaVuSans-118\"/>\n       <path d=\"M 9.078125 75.984375 \nL 18.109375 75.984375 \nL 18.109375 31.109375 \nL 44.921875 54.6875 \nL 56.390625 54.6875 \nL 27.390625 29.109375 \nL 57.625 0 \nL 45.90625 0 \nL 18.109375 26.703125 \nL 18.109375 0 \nL 9.078125 0 \nz\n\" id=\"DejaVuSans-107\"/>\n      </defs>\n      <g transform=\"translate(224.658457 39.211323)rotate(-40)scale(0.1 -0.1)\">\n       <use xlink:href=\"#DejaVuSans-115\"/>\n       <use x=\"52.099609\" xlink:href=\"#DejaVuSans-118\"/>\n       <use x=\"111.279297\" xlink:href=\"#DejaVuSans-101\"/>\n       <use x=\"172.802734\" xlink:href=\"#DejaVuSans-110\"/>\n       <use x=\"236.181641\" xlink:href=\"#DejaVuSans-115\"/>\n       <use x=\"288.28125\" xlink:href=\"#DejaVuSans-107\"/>\n       <use x=\"346.175781\" xlink:href=\"#DejaVuSans-97\"/>\n      </g>\n     </g>\n    </g>\n    <g id=\"xtick_5\">\n     <g id=\"line2d_5\">\n      <g>\n       <use style=\"stroke:#000000;stroke-width:0.8;\" x=\"292.059125\" xlink:href=\"#m1faf61c6da\" y=\"47.804456\"/>\n      </g>\n     </g>\n     <g id=\"text_5\">\n      <!-- . -->\n      <defs>\n       <path d=\"M 10.6875 12.40625 \nL 21 12.40625 \nL 21 0 \nL 10.6875 0 \nz\n\" id=\"DejaVuSans-46\"/>\n      </defs>\n      <g transform=\"translate(292.615525 39.211323)rotate(-40)scale(0.1 -0.1)\">\n       <use xlink:href=\"#DejaVuSans-46\"/>\n      </g>\n     </g>\n    </g>\n   </g>\n   <g id=\"matplotlib.axis_2\">\n    <g id=\"ytick_1\">\n     <g id=\"line2d_6\">\n      <defs>\n       <path d=\"M 0 0 \nL -3.5 0 \n\" id=\"m9b534ef0df\" style=\"stroke:#000000;stroke-width:0.8;\"/>\n      </defs>\n      <g>\n       <use style=\"stroke:#000000;stroke-width:0.8;\" x=\"51.003125\" xlink:href=\"#m9b534ef0df\" y=\"61.394456\"/>\n      </g>\n     </g>\n     <g id=\"text_6\">\n      <!-- i -->\n      <g transform=\"translate(41.225 65.193675)scale(0.1 -0.1)\">\n       <use xlink:href=\"#DejaVuSans-105\"/>\n      </g>\n     </g>\n    </g>\n    <g id=\"ytick_2\">\n     <g id=\"line2d_7\">\n      <g>\n       <use style=\"stroke:#000000;stroke-width:0.8;\" x=\"51.003125\" xlink:href=\"#m9b534ef0df\" y=\"88.574456\"/>\n      </g>\n     </g>\n     <g id=\"text_7\">\n      <!-- don -->\n      <defs>\n       <path d=\"M 45.40625 46.390625 \nL 45.40625 75.984375 \nL 54.390625 75.984375 \nL 54.390625 0 \nL 45.40625 0 \nL 45.40625 8.203125 \nQ 42.578125 3.328125 38.25 0.953125 \nQ 33.9375 -1.421875 27.875 -1.421875 \nQ 17.96875 -1.421875 11.734375 6.484375 \nQ 5.515625 14.40625 5.515625 27.296875 \nQ 5.515625 40.1875 11.734375 48.09375 \nQ 17.96875 56 27.875 56 \nQ 33.9375 56 38.25 53.625 \nQ 42.578125 51.265625 45.40625 46.390625 \nz\nM 14.796875 27.296875 \nQ 14.796875 17.390625 18.875 11.75 \nQ 22.953125 6.109375 30.078125 6.109375 \nQ 37.203125 6.109375 41.296875 11.75 \nQ 45.40625 17.390625 45.40625 27.296875 \nQ 45.40625 37.203125 41.296875 42.84375 \nQ 37.203125 48.484375 30.078125 48.484375 \nQ 22.953125 48.484375 18.875 42.84375 \nQ 14.796875 37.203125 14.796875 27.296875 \nz\n\" id=\"DejaVuSans-100\"/>\n       <path d=\"M 30.609375 48.390625 \nQ 23.390625 48.390625 19.1875 42.75 \nQ 14.984375 37.109375 14.984375 27.296875 \nQ 14.984375 17.484375 19.15625 11.84375 \nQ 23.34375 6.203125 30.609375 6.203125 \nQ 37.796875 6.203125 41.984375 11.859375 \nQ 46.1875 17.53125 46.1875 27.296875 \nQ 46.1875 37.015625 41.984375 42.703125 \nQ 37.796875 48.390625 30.609375 48.390625 \nz\nM 30.609375 56 \nQ 42.328125 56 49.015625 48.375 \nQ 55.71875 40.765625 55.71875 27.296875 \nQ 55.71875 13.875 49.015625 6.21875 \nQ 42.328125 -1.421875 30.609375 -1.421875 \nQ 18.84375 -1.421875 12.171875 6.21875 \nQ 5.515625 13.875 5.515625 27.296875 \nQ 5.515625 40.765625 12.171875 48.375 \nQ 18.84375 56 30.609375 56 \nz\n\" id=\"DejaVuSans-111\"/>\n      </defs>\n      <g transform=\"translate(25.198438 92.373675)scale(0.1 -0.1)\">\n       <use xlink:href=\"#DejaVuSans-100\"/>\n       <use x=\"63.476562\" xlink:href=\"#DejaVuSans-111\"/>\n       <use x=\"124.658203\" xlink:href=\"#DejaVuSans-110\"/>\n      </g>\n     </g>\n    </g>\n    <g id=\"ytick_3\">\n     <g id=\"line2d_8\">\n      <g>\n       <use style=\"stroke:#000000;stroke-width:0.8;\" x=\"51.003125\" xlink:href=\"#m9b534ef0df\" y=\"115.754456\"/>\n      </g>\n     </g>\n     <g id=\"text_8\">\n      <!-- ' -->\n      <defs>\n       <path d=\"M 17.921875 72.90625 \nL 17.921875 45.796875 \nL 9.625 45.796875 \nL 9.625 72.90625 \nz\n\" id=\"DejaVuSans-39\"/>\n      </defs>\n      <g transform=\"translate(41.254688 119.553675)scale(0.1 -0.1)\">\n       <use xlink:href=\"#DejaVuSans-39\"/>\n      </g>\n     </g>\n    </g>\n    <g id=\"ytick_4\">\n     <g id=\"line2d_9\">\n      <g>\n       <use style=\"stroke:#000000;stroke-width:0.8;\" x=\"51.003125\" xlink:href=\"#m9b534ef0df\" y=\"142.934456\"/>\n      </g>\n     </g>\n     <g id=\"text_9\">\n      <!-- t -->\n      <g transform=\"translate(40.082813 146.733675)scale(0.1 -0.1)\">\n       <use xlink:href=\"#DejaVuSans-116\"/>\n      </g>\n     </g>\n    </g>\n    <g id=\"ytick_5\">\n     <g id=\"line2d_10\">\n      <g>\n       <use style=\"stroke:#000000;stroke-width:0.8;\" x=\"51.003125\" xlink:href=\"#m9b534ef0df\" y=\"170.114456\"/>\n      </g>\n     </g>\n     <g id=\"text_10\">\n      <!-- speak -->\n      <defs>\n       <path d=\"M 18.109375 8.203125 \nL 18.109375 -20.796875 \nL 9.078125 -20.796875 \nL 9.078125 54.6875 \nL 18.109375 54.6875 \nL 18.109375 46.390625 \nQ 20.953125 51.265625 25.265625 53.625 \nQ 29.59375 56 35.59375 56 \nQ 45.5625 56 51.78125 48.09375 \nQ 58.015625 40.1875 58.015625 27.296875 \nQ 58.015625 14.40625 51.78125 6.484375 \nQ 45.5625 -1.421875 35.59375 -1.421875 \nQ 29.59375 -1.421875 25.265625 0.953125 \nQ 20.953125 3.328125 18.109375 8.203125 \nz\nM 48.6875 27.296875 \nQ 48.6875 37.203125 44.609375 42.84375 \nQ 40.53125 48.484375 33.40625 48.484375 \nQ 26.265625 48.484375 22.1875 42.84375 \nQ 18.109375 37.203125 18.109375 27.296875 \nQ 18.109375 17.390625 22.1875 11.75 \nQ 26.265625 6.109375 33.40625 6.109375 \nQ 40.53125 6.109375 44.609375 11.75 \nQ 48.6875 17.390625 48.6875 27.296875 \nz\n\" id=\"DejaVuSans-112\"/>\n      </defs>\n      <g transform=\"translate(14.373438 173.913675)scale(0.1 -0.1)\">\n       <use xlink:href=\"#DejaVuSans-115\"/>\n       <use x=\"52.099609\" xlink:href=\"#DejaVuSans-112\"/>\n       <use x=\"115.576172\" xlink:href=\"#DejaVuSans-101\"/>\n       <use x=\"177.099609\" xlink:href=\"#DejaVuSans-97\"/>\n       <use x=\"238.378906\" xlink:href=\"#DejaVuSans-107\"/>\n      </g>\n     </g>\n    </g>\n    <g id=\"ytick_6\">\n     <g id=\"line2d_11\">\n      <g>\n       <use style=\"stroke:#000000;stroke-width:0.8;\" x=\"51.003125\" xlink:href=\"#m9b534ef0df\" y=\"197.294456\"/>\n      </g>\n     </g>\n     <g id=\"text_11\">\n      <!-- to -->\n      <g transform=\"translate(33.964063 201.093675)scale(0.1 -0.1)\">\n       <use xlink:href=\"#DejaVuSans-116\"/>\n       <use x=\"39.208984\" xlink:href=\"#DejaVuSans-111\"/>\n      </g>\n     </g>\n    </g>\n    <g id=\"ytick_7\">\n     <g id=\"line2d_12\">\n      <g>\n       <use style=\"stroke:#000000;stroke-width:0.8;\" x=\"51.003125\" xlink:href=\"#m9b534ef0df\" y=\"224.474456\"/>\n      </g>\n     </g>\n     <g id=\"text_12\">\n      <!-- change -->\n      <defs>\n       <path d=\"M 48.78125 52.59375 \nL 48.78125 44.1875 \nQ 44.96875 46.296875 41.140625 47.34375 \nQ 37.3125 48.390625 33.40625 48.390625 \nQ 24.65625 48.390625 19.8125 42.84375 \nQ 14.984375 37.3125 14.984375 27.296875 \nQ 14.984375 17.28125 19.8125 11.734375 \nQ 24.65625 6.203125 33.40625 6.203125 \nQ 37.3125 6.203125 41.140625 7.25 \nQ 44.96875 8.296875 48.78125 10.40625 \nL 48.78125 2.09375 \nQ 45.015625 0.34375 40.984375 -0.53125 \nQ 36.96875 -1.421875 32.421875 -1.421875 \nQ 20.0625 -1.421875 12.78125 6.34375 \nQ 5.515625 14.109375 5.515625 27.296875 \nQ 5.515625 40.671875 12.859375 48.328125 \nQ 20.21875 56 33.015625 56 \nQ 37.15625 56 41.109375 55.140625 \nQ 45.0625 54.296875 48.78125 52.59375 \nz\n\" id=\"DejaVuSans-99\"/>\n       <path d=\"M 54.890625 33.015625 \nL 54.890625 0 \nL 45.90625 0 \nL 45.90625 32.71875 \nQ 45.90625 40.484375 42.875 44.328125 \nQ 39.84375 48.1875 33.796875 48.1875 \nQ 26.515625 48.1875 22.3125 43.546875 \nQ 18.109375 38.921875 18.109375 30.90625 \nL 18.109375 0 \nL 9.078125 0 \nL 9.078125 75.984375 \nL 18.109375 75.984375 \nL 18.109375 46.1875 \nQ 21.34375 51.125 25.703125 53.5625 \nQ 30.078125 56 35.796875 56 \nQ 45.21875 56 50.046875 50.171875 \nQ 54.890625 44.34375 54.890625 33.015625 \nz\n\" id=\"DejaVuSans-104\"/>\n      </defs>\n      <g transform=\"translate(7.2 228.273675)scale(0.1 -0.1)\">\n       <use xlink:href=\"#DejaVuSans-99\"/>\n       <use x=\"54.980469\" xlink:href=\"#DejaVuSans-104\"/>\n       <use x=\"118.359375\" xlink:href=\"#DejaVuSans-97\"/>\n       <use x=\"179.638672\" xlink:href=\"#DejaVuSans-110\"/>\n       <use x=\"243.017578\" xlink:href=\"#DejaVuSans-103\"/>\n       <use x=\"306.494141\" xlink:href=\"#DejaVuSans-101\"/>\n      </g>\n     </g>\n    </g>\n    <g id=\"ytick_8\">\n     <g id=\"line2d_13\">\n      <g>\n       <use style=\"stroke:#000000;stroke-width:0.8;\" x=\"51.003125\" xlink:href=\"#m9b534ef0df\" y=\"251.654456\"/>\n      </g>\n     </g>\n     <g id=\"text_13\">\n      <!-- . -->\n      <g transform=\"translate(40.825 255.453675)scale(0.1 -0.1)\">\n       <use xlink:href=\"#DejaVuSans-46\"/>\n      </g>\n     </g>\n    </g>\n   </g>\n   <g id=\"patch_3\">\n    <path d=\"M 51.003125 265.244456 \nL 51.003125 47.804456 \n\" style=\"fill:none;stroke:#000000;stroke-linecap:square;stroke-linejoin:miter;stroke-width:0.8;\"/>\n   </g>\n   <g id=\"patch_4\">\n    <path d=\"M 318.843125 265.244456 \nL 318.843125 47.804456 \n\" style=\"fill:none;stroke:#000000;stroke-linecap:square;stroke-linejoin:miter;stroke-width:0.8;\"/>\n   </g>\n   <g id=\"patch_5\">\n    <path d=\"M 51.003125 265.244456 \nL 318.843125 265.244456 \n\" style=\"fill:none;stroke:#000000;stroke-linecap:square;stroke-linejoin:miter;stroke-width:0.8;\"/>\n   </g>\n   <g id=\"patch_6\">\n    <path d=\"M 51.003125 47.804456 \nL 318.843125 47.804456 \n\" style=\"fill:none;stroke:#000000;stroke-linecap:square;stroke-linejoin:miter;stroke-width:0.8;\"/>\n   </g>\n  </g>\n  <g id=\"axes_2\">\n   <g id=\"patch_7\">\n    <path clip-path=\"url(#paddaa58195)\" d=\"M 335.583125 265.244456 \nL 335.583125 264.395081 \nL 335.583125 48.653831 \nL 335.583125 47.804456 \nL 346.455125 47.804456 \nL 346.455125 48.653831 \nL 346.455125 264.395081 \nL 346.455125 265.244456 \nz\n\" style=\"fill:#ffffff;stroke:#ffffff;stroke-linejoin:miter;stroke-width:0.01;\"/>\n   </g>\n   <image height=\"218\" id=\"imagee9d29c286d\" transform=\"scale(1 -1)translate(0 -218)\" width=\"10\" x=\"336\" xlink:href=\"data:image/png;base64,\niVBORw0KGgoAAAANSUhEUgAAAAoAAADaCAYAAACfDNOSAAAABHNCSVQICAgIfAhkiAAAAQ1JREFUaIHtmMENwzAMA2XZj67Twbr/s9kgOAEUiDjOm6BMUaaFjM/39w/wrRiD4GLFSAr0Mea0lW4QsyjwWCgpbWTcSXUmZkS4WIOWdgLpLTSeUd/wvbw+FkoYjV4ntxDhSmeEjPozFhj1QIQz9/GI0TBupDp9fZz6kIKRu2Blrxij14ywpNrWngavnxCk8lWBrUctznRcV1xa3x51ab2YwhkhUB/NOHsK0wOBfCjkpXH2FC6XLXumPh8ZYcdbqLdQr5pHs54RTw9NCv1a2GEhZGxYXY2qGyyEwI57bRPD/yDJp0df2tge/VA427OTM2dwb4HGLSXk7dG/XAWvKfCN95oue9ZfTa9MXOzMBZcbB1KPzNQdAAAAAElFTkSuQmCC\" y=\"-47\"/>\n   <g id=\"matplotlib.axis_3\"/>\n   <g id=\"matplotlib.axis_4\">\n    <g id=\"ytick_9\">\n     <g id=\"line2d_14\">\n      <defs>\n       <path d=\"M 0 0 \nL 3.5 0 \n\" id=\"m96cf7a688a\" style=\"stroke:#000000;stroke-width:0.8;\"/>\n      </defs>\n      <g>\n       <use style=\"stroke:#000000;stroke-width:0.8;\" x=\"346.455125\" xlink:href=\"#m96cf7a688a\" y=\"265.244456\"/>\n      </g>\n     </g>\n     <g id=\"text_14\">\n      <!-- 0.0 -->\n      <defs>\n       <path d=\"M 31.78125 66.40625 \nQ 24.171875 66.40625 20.328125 58.90625 \nQ 16.5 51.421875 16.5 36.375 \nQ 16.5 21.390625 20.328125 13.890625 \nQ 24.171875 6.390625 31.78125 6.390625 \nQ 39.453125 6.390625 43.28125 13.890625 \nQ 47.125 21.390625 47.125 36.375 \nQ 47.125 51.421875 43.28125 58.90625 \nQ 39.453125 66.40625 31.78125 66.40625 \nz\nM 31.78125 74.21875 \nQ 44.046875 74.21875 50.515625 64.515625 \nQ 56.984375 54.828125 56.984375 36.375 \nQ 56.984375 17.96875 50.515625 8.265625 \nQ 44.046875 -1.421875 31.78125 -1.421875 \nQ 19.53125 -1.421875 13.0625 8.265625 \nQ 6.59375 17.96875 6.59375 36.375 \nQ 6.59375 54.828125 13.0625 64.515625 \nQ 19.53125 74.21875 31.78125 74.21875 \nz\n\" id=\"DejaVuSans-48\"/>\n      </defs>\n      <g transform=\"translate(353.455125 269.043675)scale(0.1 -0.1)\">\n       <use xlink:href=\"#DejaVuSans-48\"/>\n       <use x=\"63.623047\" xlink:href=\"#DejaVuSans-46\"/>\n       <use x=\"95.410156\" xlink:href=\"#DejaVuSans-48\"/>\n      </g>\n     </g>\n    </g>\n    <g id=\"ytick_10\">\n     <g id=\"line2d_15\">\n      <g>\n       <use style=\"stroke:#000000;stroke-width:0.8;\" x=\"346.455125\" xlink:href=\"#m96cf7a688a\" y=\"221.756456\"/>\n      </g>\n     </g>\n     <g id=\"text_15\">\n      <!-- 0.2 -->\n      <defs>\n       <path d=\"M 19.1875 8.296875 \nL 53.609375 8.296875 \nL 53.609375 0 \nL 7.328125 0 \nL 7.328125 8.296875 \nQ 12.9375 14.109375 22.625 23.890625 \nQ 32.328125 33.6875 34.8125 36.53125 \nQ 39.546875 41.84375 41.421875 45.53125 \nQ 43.3125 49.21875 43.3125 52.78125 \nQ 43.3125 58.59375 39.234375 62.25 \nQ 35.15625 65.921875 28.609375 65.921875 \nQ 23.96875 65.921875 18.8125 64.3125 \nQ 13.671875 62.703125 7.8125 59.421875 \nL 7.8125 69.390625 \nQ 13.765625 71.78125 18.9375 73 \nQ 24.125 74.21875 28.421875 74.21875 \nQ 39.75 74.21875 46.484375 68.546875 \nQ 53.21875 62.890625 53.21875 53.421875 \nQ 53.21875 48.921875 51.53125 44.890625 \nQ 49.859375 40.875 45.40625 35.40625 \nQ 44.1875 33.984375 37.640625 27.21875 \nQ 31.109375 20.453125 19.1875 8.296875 \nz\n\" id=\"DejaVuSans-50\"/>\n      </defs>\n      <g transform=\"translate(353.455125 225.555675)scale(0.1 -0.1)\">\n       <use xlink:href=\"#DejaVuSans-48\"/>\n       <use x=\"63.623047\" xlink:href=\"#DejaVuSans-46\"/>\n       <use x=\"95.410156\" xlink:href=\"#DejaVuSans-50\"/>\n      </g>\n     </g>\n    </g>\n    <g id=\"ytick_11\">\n     <g id=\"line2d_16\">\n      <g>\n       <use style=\"stroke:#000000;stroke-width:0.8;\" x=\"346.455125\" xlink:href=\"#m96cf7a688a\" y=\"178.268456\"/>\n      </g>\n     </g>\n     <g id=\"text_16\">\n      <!-- 0.4 -->\n      <defs>\n       <path d=\"M 37.796875 64.3125 \nL 12.890625 25.390625 \nL 37.796875 25.390625 \nz\nM 35.203125 72.90625 \nL 47.609375 72.90625 \nL 47.609375 25.390625 \nL 58.015625 25.390625 \nL 58.015625 17.1875 \nL 47.609375 17.1875 \nL 47.609375 0 \nL 37.796875 0 \nL 37.796875 17.1875 \nL 4.890625 17.1875 \nL 4.890625 26.703125 \nz\n\" id=\"DejaVuSans-52\"/>\n      </defs>\n      <g transform=\"translate(353.455125 182.067675)scale(0.1 -0.1)\">\n       <use xlink:href=\"#DejaVuSans-48\"/>\n       <use x=\"63.623047\" xlink:href=\"#DejaVuSans-46\"/>\n       <use x=\"95.410156\" xlink:href=\"#DejaVuSans-52\"/>\n      </g>\n     </g>\n    </g>\n    <g id=\"ytick_12\">\n     <g id=\"line2d_17\">\n      <g>\n       <use style=\"stroke:#000000;stroke-width:0.8;\" x=\"346.455125\" xlink:href=\"#m96cf7a688a\" y=\"134.780456\"/>\n      </g>\n     </g>\n     <g id=\"text_17\">\n      <!-- 0.6 -->\n      <defs>\n       <path d=\"M 33.015625 40.375 \nQ 26.375 40.375 22.484375 35.828125 \nQ 18.609375 31.296875 18.609375 23.390625 \nQ 18.609375 15.53125 22.484375 10.953125 \nQ 26.375 6.390625 33.015625 6.390625 \nQ 39.65625 6.390625 43.53125 10.953125 \nQ 47.40625 15.53125 47.40625 23.390625 \nQ 47.40625 31.296875 43.53125 35.828125 \nQ 39.65625 40.375 33.015625 40.375 \nz\nM 52.59375 71.296875 \nL 52.59375 62.3125 \nQ 48.875 64.0625 45.09375 64.984375 \nQ 41.3125 65.921875 37.59375 65.921875 \nQ 27.828125 65.921875 22.671875 59.328125 \nQ 17.53125 52.734375 16.796875 39.40625 \nQ 19.671875 43.65625 24.015625 45.921875 \nQ 28.375 48.1875 33.59375 48.1875 \nQ 44.578125 48.1875 50.953125 41.515625 \nQ 57.328125 34.859375 57.328125 23.390625 \nQ 57.328125 12.15625 50.6875 5.359375 \nQ 44.046875 -1.421875 33.015625 -1.421875 \nQ 20.359375 -1.421875 13.671875 8.265625 \nQ 6.984375 17.96875 6.984375 36.375 \nQ 6.984375 53.65625 15.1875 63.9375 \nQ 23.390625 74.21875 37.203125 74.21875 \nQ 40.921875 74.21875 44.703125 73.484375 \nQ 48.484375 72.75 52.59375 71.296875 \nz\n\" id=\"DejaVuSans-54\"/>\n      </defs>\n      <g transform=\"translate(353.455125 138.579675)scale(0.1 -0.1)\">\n       <use xlink:href=\"#DejaVuSans-48\"/>\n       <use x=\"63.623047\" xlink:href=\"#DejaVuSans-46\"/>\n       <use x=\"95.410156\" xlink:href=\"#DejaVuSans-54\"/>\n      </g>\n     </g>\n    </g>\n    <g id=\"ytick_13\">\n     <g id=\"line2d_18\">\n      <g>\n       <use style=\"stroke:#000000;stroke-width:0.8;\" x=\"346.455125\" xlink:href=\"#m96cf7a688a\" y=\"91.292456\"/>\n      </g>\n     </g>\n     <g id=\"text_18\">\n      <!-- 0.8 -->\n      <defs>\n       <path d=\"M 31.78125 34.625 \nQ 24.75 34.625 20.71875 30.859375 \nQ 16.703125 27.09375 16.703125 20.515625 \nQ 16.703125 13.921875 20.71875 10.15625 \nQ 24.75 6.390625 31.78125 6.390625 \nQ 38.8125 6.390625 42.859375 10.171875 \nQ 46.921875 13.96875 46.921875 20.515625 \nQ 46.921875 27.09375 42.890625 30.859375 \nQ 38.875 34.625 31.78125 34.625 \nz\nM 21.921875 38.8125 \nQ 15.578125 40.375 12.03125 44.71875 \nQ 8.5 49.078125 8.5 55.328125 \nQ 8.5 64.0625 14.71875 69.140625 \nQ 20.953125 74.21875 31.78125 74.21875 \nQ 42.671875 74.21875 48.875 69.140625 \nQ 55.078125 64.0625 55.078125 55.328125 \nQ 55.078125 49.078125 51.53125 44.71875 \nQ 48 40.375 41.703125 38.8125 \nQ 48.828125 37.15625 52.796875 32.3125 \nQ 56.78125 27.484375 56.78125 20.515625 \nQ 56.78125 9.90625 50.3125 4.234375 \nQ 43.84375 -1.421875 31.78125 -1.421875 \nQ 19.734375 -1.421875 13.25 4.234375 \nQ 6.78125 9.90625 6.78125 20.515625 \nQ 6.78125 27.484375 10.78125 32.3125 \nQ 14.796875 37.15625 21.921875 38.8125 \nz\nM 18.3125 54.390625 \nQ 18.3125 48.734375 21.84375 45.5625 \nQ 25.390625 42.390625 31.78125 42.390625 \nQ 38.140625 42.390625 41.71875 45.5625 \nQ 45.3125 48.734375 45.3125 54.390625 \nQ 45.3125 60.0625 41.71875 63.234375 \nQ 38.140625 66.40625 31.78125 66.40625 \nQ 25.390625 66.40625 21.84375 63.234375 \nQ 18.3125 60.0625 18.3125 54.390625 \nz\n\" id=\"DejaVuSans-56\"/>\n      </defs>\n      <g transform=\"translate(353.455125 95.091675)scale(0.1 -0.1)\">\n       <use xlink:href=\"#DejaVuSans-48\"/>\n       <use x=\"63.623047\" xlink:href=\"#DejaVuSans-46\"/>\n       <use x=\"95.410156\" xlink:href=\"#DejaVuSans-56\"/>\n      </g>\n     </g>\n    </g>\n    <g id=\"ytick_14\">\n     <g id=\"line2d_19\">\n      <g>\n       <use style=\"stroke:#000000;stroke-width:0.8;\" x=\"346.455125\" xlink:href=\"#m96cf7a688a\" y=\"47.804456\"/>\n      </g>\n     </g>\n     <g id=\"text_19\">\n      <!-- 1.0 -->\n      <defs>\n       <path d=\"M 12.40625 8.296875 \nL 28.515625 8.296875 \nL 28.515625 63.921875 \nL 10.984375 60.40625 \nL 10.984375 69.390625 \nL 28.421875 72.90625 \nL 38.28125 72.90625 \nL 38.28125 8.296875 \nL 54.390625 8.296875 \nL 54.390625 0 \nL 12.40625 0 \nz\n\" id=\"DejaVuSans-49\"/>\n      </defs>\n      <g transform=\"translate(353.455125 51.603675)scale(0.1 -0.1)\">\n       <use xlink:href=\"#DejaVuSans-49\"/>\n       <use x=\"63.623047\" xlink:href=\"#DejaVuSans-46\"/>\n       <use x=\"95.410156\" xlink:href=\"#DejaVuSans-48\"/>\n      </g>\n     </g>\n    </g>\n   </g>\n   <g id=\"patch_8\">\n    <path d=\"M 335.583125 265.244456 \nL 335.583125 264.395081 \nL 335.583125 48.653831 \nL 335.583125 47.804456 \nL 346.455125 47.804456 \nL 346.455125 48.653831 \nL 346.455125 264.395081 \nL 346.455125 265.244456 \nz\n\" style=\"fill:none;stroke:#000000;stroke-linejoin:miter;stroke-width:0.8;\"/>\n   </g>\n  </g>\n </g>\n <defs>\n  <clipPath id=\"p5350b3ae08\">\n   <rect height=\"217.44\" width=\"267.84\" x=\"51.003125\" y=\"47.804456\"/>\n  </clipPath>\n  <clipPath id=\"paddaa58195\">\n   <rect height=\"217.44\" width=\"10.872\" x=\"335.583125\" y=\"47.804456\"/>\n  </clipPath>\n </defs>\n</svg>\n",
      "text/plain": [
       "<Figure size 432x288 with 2 Axes>"
      ]
     },
     "metadata": {
      "needs_background": "light"
     },
     "output_type": "display_data"
    }
   ],
   "source": [
    "plot_attention(translator, 'jag talar inte svenska . ')"
   ]
  },
  {
   "cell_type": "markdown",
   "metadata": {},
   "source": [
    "**🥳 Congratulations on finishing this lab! 🥳**"
   ]
  }
 ],
 "metadata": {
  "accelerator": "GPU",
  "colab": {
   "collapsed_sections": [],
   "name": "NLP-L5-WithSolutions.ipynb",
   "provenance": []
  },
  "kernelspec": {
   "display_name": "Python 3",
   "language": "python",
   "name": "python3"
  },
  "language_info": {
   "codemirror_mode": {
    "name": "ipython",
    "version": 3
   },
   "file_extension": ".py",
   "mimetype": "text/x-python",
   "name": "python",
   "nbconvert_exporter": "python",
   "pygments_lexer": "ipython3",
   "version": "3.8.10"
  },
  "vscode": {
   "interpreter": {
    "hash": "31f2aee4e71d21fbe5cf8b01ff0e069b9275f58929596ceb00d14d90e3e16cd6"
   }
  }
 },
 "nbformat": 4,
 "nbformat_minor": 4
}
